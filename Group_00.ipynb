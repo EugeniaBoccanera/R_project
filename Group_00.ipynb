{
 "cells": [
  {
   "cell_type": "markdown",
   "metadata": {},
   "source": [
    "## Energy Resolution of Germanium detectors"
   ]
  },
  {
   "cell_type": "markdown",
   "metadata": {},
   "source": [
    "Eugenia Boccanera 2109310  \n",
    "Lucrezia Rossi ..."
   ]
  },
  {
   "cell_type": "markdown",
   "metadata": {},
   "source": [
    "Germanium detectors have wide fields of application for $\\gamma-$ and $X-$ ray spectonometry thanks to their excellent energy resolution. The energy resolution of these detectors is defined as the width of the detected energy spectra peaks (FWHM); it depends on:\n",
    "    - the statistics of the charge creation process\n",
    "    - the properties of the detector, and primarly its charge cllelction efficency - the electronics noise\n",
    "\n",
    "The resolution can be expressed as the suquared sum of two terms:   \n",
    "$$FWHM = \\sqrt{(w_d)^2 + (w_e)^2}$$   \n",
    "where the first term depends on teh detector properties as:  \n",
    "$w_d = 2 * \\sqrt{(2 * \\log(2)) * F * E_{\\gamma} * w}$   \n",
    "with $F$ the _Fano factor_,  \n",
    "$E_{\\gamma}$  the energy of the photon deposited energy(?)  \n",
    "$w$ the electron hole-porduced energy threshold in germanium (w ~ 3eV).\n",
    "\n",
    "The $w_e$ term in eq.1 is connected with the readout electronics and depends on the detector capacitance, the size of the detector and the bias voltage."
   ]
  },
  {
   "cell_type": "markdown",
   "metadata": {},
   "source": [
    "Detailed Steps\n",
    "##### 1. Understand the Data and Model\n",
    "\n",
    "The energy resolution (FWHM) of the Germanium detectors is given by:  \n",
    "$$FWHM = \\sqrt{(w_d)^2 + (w_e)^2}$$\n",
    "\n",
    "\n",
    "with  \n",
    "$w_d = 2 * \\sqrt{(2 * \\log(2)) * F * E_{\\gamma} * w}$  \n",
    "\n",
    "\n",
    "    ​\n",
    "\n",
    "    Here, F is the Fano factor, $E_{\\gamma}$​ is the energy of the photon, and w is the electron-hole production energy threshold in Germanium (approximately 3 eV).\n",
    "\n",
    "    You need to determine w_d_​ and w_e_​ for your data.\n",
    "\n",
    "##### 2. Define the Model for Fitting Peaks\n",
    "\n",
    "Identify the function you will use to fit the peaks. A common choice for spectral peaks is the Gaussian function.\n",
    "Define the full model incorporating the equation for FWHM and how it relates to the observed data.\n",
    "\n",
    "Use a Gaussian function to model the peaks in the energy spectra:\n",
    "$$f(E)=A * exp⁡(−\\frac{(E−μ)^2}{2σ^2})$$\n",
    "    \n",
    "where μ is the peak center, σ is the standard deviation related to FWHM by $FWHM = 2 * \\sqrt{2 * \\log{2}} * \\sigma$, and A is the amplitude.\n",
    "\n",
    "##### 3. Set Up Bayesian Inference\n",
    "\n",
    "Define prior distributions for the parameters μ, σ, A, $w_d$​, and $w_e$​. For example:  \n",
    "$μ∼N(μ_0,(σ_{\\mu})^2)$\n",
    "$σ∼N(σ_0,σ_σ^2)$  \n",
    "$A∼N(A_0,σ_A^2)$  \n",
    "$w_d∼N(w_{d0},σ_{w_d}^2)$  \n",
    "$w_e∼N(w_{e0},σ_{w_e}^2)$\n",
    "\n",
    "where N denotes a normal distribution with specified mean and variance.\n",
    "\n",
    "##### 4. Perform Bayesian Inference\n",
    "\n",
    "Use a Bayesian inference library like Stan to perform Markov Chain Monte Carlo (MCMC) sampling to obtain the posterior distributions of the parameters.\n",
    "\n",
    "\n",
    "\n",
    "##### 5. Validate and Interpret the Results\n",
    "\n",
    "Check the trace plots and posterior distributions to ensure the MCMC chains have converged.\n",
    "Compare the fitted model to the observed data using posterior predictive checks.\n",
    "\n",
    "##### 6. Report the Results\n",
    "\n",
    "Summarize the parameter estimates, including credible intervals.\n",
    "Provide visualizations, such as trace plots and the fitted spectrum overlaid on the observed data.\n",
    "\n",
    "### Theory Behind Bayesian Inference\n",
    "\n",
    "Bayesian inference combines prior knowledge with observed data to update the probability of a hypothesis. The steps are:\n",
    "\n",
    "- Prior Distribution: Represents your initial beliefs about the parameters before seeing the data.   \n",
    "- Likelihood: Represents the probability of the observed data given the parameters.  \n",
    "- Posterior Distribution: Updated beliefs about the parameters after considering the data, obtained via Bayes' theorem:  \n",
    "    $P(θ∣data) ∝ P(data∣θ)P(θ)$\n",
    "\n",
    "\n",
    "MCMC methods, such as the Metropolis-Hastings algorithm, are used to sample from the posterior distribution when it cannot be computed analytically.\n",
    "\n",
    "Metropolis-Hastings: Proposes new parameter values and accepts them based on an acceptance criterion.\n"
   ]
  },
  {
   "cell_type": "markdown",
   "metadata": {},
   "source": [
    "### 1. Load the required libraries"
   ]
  },
  {
   "cell_type": "code",
   "execution_count": null,
   "metadata": {
    "vscode": {
     "languageId": "r"
    }
   },
   "outputs": [
    {
     "name": "stderr",
     "output_type": "stream",
     "text": [
      "Caricamento del pacchetto richiesto: StanHeaders\n",
      "\n",
      "\n",
      "rstan version 2.32.6 (Stan version 2.32.2)\n",
      "\n",
      "\n",
      "For execution on a local, multicore CPU with excess RAM we recommend calling\n",
      "options(mc.cores = parallel::detectCores()).\n",
      "To avoid recompilation of unchanged Stan programs, we recommend calling\n",
      "rstan_options(auto_write = TRUE)\n",
      "For within-chain threading using `reduce_sum()` or `map_rect()` Stan functions,\n",
      "change `threads_per_chain` option:\n",
      "rstan_options(threads_per_chain = 1)\n",
      "\n",
      "\n",
      "Do not specify '-march=native' in 'LOCAL_CPPFLAGS' or a Makevars file\n",
      "\n",
      "This is bayesplot version 1.11.1\n",
      "\n",
      "- Online documentation and vignettes at mc-stan.org/bayesplot\n",
      "\n",
      "- bayesplot theme set to bayesplot::theme_default()\n",
      "\n",
      "   * Does _not_ affect other ggplot2 plots\n",
      "\n",
      "   * See ?bayesplot_theme_set for details on theme setting\n",
      "\n"
     ]
    }
   ],
   "source": [
    "# Load the libraries\n",
    "library(rstan)\n",
    "library(ggplot2)\n",
    "library(bayesplot)\n",
    "\n",
    "# Configure rstan\n",
    "rstan_options(auto_write = TRUE)\n",
    "options(mc.cores = parallel::detectCores())\n"
   ]
  },
  {
   "cell_type": "markdown",
   "metadata": {},
   "source": [
    "### 2. Define the Stan Model\n",
    "Create a Stan model file 'peak_fitting.stan' with this content:"
   ]
  },
  {
   "cell_type": "markdown",
   "metadata": {
    "vscode": {
     "languageId": "r"
    }
   },
   "source": [
    "data {\n",
    "  int<lower=0> N;  // Number of data points\n",
    "  vector[N] E;     // Energy values\n",
    "  vector[N] y;     // Observed counts\n",
    "  real mu_prior;   // Prior mean for peak center\n",
    "  real<lower=0> sigma_mu; // Prior std for peak center\n",
    "  real<lower=0> sigma_prior; // Prior std for peak width\n",
    "  real<lower=0> sigma_sigma; // Prior std for sigma\n",
    "  real A_prior;    // Prior mean for amplitude\n",
    "  real<lower=0> sigma_A;     // Prior std for amplitude\n",
    "}\n",
    "\n",
    "parameters {\n",
    "  real mu;         // Peak center\n",
    "  real<lower=0> sigma; // Peak width\n",
    "  real<lower=0> A;     // Peak amplitude\n",
    "}\n",
    "\n",
    "model {\n",
    "  // Priors\n",
    "  mu ~ normal(mu_prior, sigma_mu);\n",
    "  sigma ~ normal(sigma_prior, sigma_sigma);\n",
    "  A ~ normal(A_prior, sigma_A);\n",
    "  \n",
    "  // Likelihood\n",
    "  y ~ normal(A * exp(-0.5 * square((E - mu) / sigma)), sigma);\n",
    "}\n"
   ]
  },
  {
   "cell_type": "markdown",
   "metadata": {},
   "source": [
    "### 3. Prepare data in R"
   ]
  },
  {
   "cell_type": "code",
   "execution_count": 2,
   "metadata": {
    "vscode": {
     "languageId": "r"
    }
   },
   "outputs": [
    {
     "ename": "ERROR",
     "evalue": "Error in eval(expr, envir, enclos): '...' utilizzato in un contesto sbagliato\n",
     "output_type": "error",
     "traceback": [
      "Error in eval(expr, envir, enclos): '...' utilizzato in un contesto sbagliato\nTraceback:\n"
     ]
    }
   ],
   "source": [
    "# Sample data\n",
    "E <- c(...)  # Energy values\n",
    "y <- c(...)  # Observed counts\n",
    "\n",
    "# Prior values\n",
    "mu_prior <- 1000  # Example value\n",
    "sigma_mu <- 10\n",
    "sigma_prior <- 10\n",
    "sigma_sigma <- 5\n",
    "A_prior <- 100\n",
    "sigma_A <- 10\n",
    "\n",
    "# Data list for Stan\n",
    "data_list <- list(\n",
    "  N = length(E),\n",
    "  E = E,\n",
    "  y = y,\n",
    "  mu_prior = mu_prior,\n",
    "  sigma_mu = sigma_mu,\n",
    "  sigma_prior = sigma_prior,\n",
    "  sigma_sigma = sigma_sigma,\n",
    "  A_prior = A_prior,\n",
    "  sigma_A = sigma_A\n",
    ")\n"
   ]
  },
  {
   "cell_type": "markdown",
   "metadata": {},
   "source": [
    "### 4. Run Bayesian Inference "
   ]
  },
  {
   "cell_type": "code",
   "execution_count": null,
   "metadata": {
    "vscode": {
     "languageId": "r"
    }
   },
   "outputs": [],
   "source": [
    "# Compile the model\n",
    "stan_model <- stan_model(\"peak_fitting.stan\")\n",
    "\n",
    "# Fit the model\n",
    "fit <- sampling(stan_model, data = data_list, iter = 2000, warmup = 1000, chains = 4, seed = 123)\n",
    "\n",
    "# Print summary of the fit\n",
    "print(fit)\n"
   ]
  },
  {
   "cell_type": "markdown",
   "metadata": {},
   "source": [
    "### 5. Analyze and Interpre Results"
   ]
  },
  {
   "cell_type": "code",
   "execution_count": null,
   "metadata": {
    "vscode": {
     "languageId": "r"
    }
   },
   "outputs": [],
   "source": [
    "# Extract posterior samples\n",
    "posterior <- extract(fit)\n",
    "\n",
    "# Summary statistics\n",
    "summary(fit)\n",
    "\n",
    "# Trace plots to check convergence\n",
    "traceplot(fit)\n"
   ]
  },
  {
   "cell_type": "markdown",
   "metadata": {},
   "source": [
    "### 6. Visualize the Fit"
   ]
  },
  {
   "cell_type": "code",
   "execution_count": null,
   "metadata": {
    "vscode": {
     "languageId": "r"
    }
   },
   "outputs": [],
   "source": [
    "# Posterior predictive checks\n",
    "y_rep <- posterior_predict(fit)\n",
    "\n",
    "# Plot the observed data and the fit\n",
    "ggplot() +\n",
    "  geom_point(aes(x = E, y = y), color = 'blue') +\n",
    "  geom_line(aes(x = E, y = apply(y_rep, 2, mean)), color = 'red') +\n",
    "  labs(x = 'Energy (E)', y = 'Counts') +\n",
    "  ggtitle('Observed Data and Fitted Model')"
   ]
  },
  {
   "cell_type": "markdown",
   "metadata": {},
   "source": []
  }
 ],
 "metadata": {
  "kernelspec": {
   "display_name": "R",
   "language": "R",
   "name": "ir"
  },
  "language_info": {
   "codemirror_mode": "r",
   "file_extension": ".r",
   "mimetype": "text/x-r-source",
   "name": "R",
   "pygments_lexer": "r",
   "version": "4.3.3"
  }
 },
 "nbformat": 4,
 "nbformat_minor": 2
}
