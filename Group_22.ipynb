{
 "cells": [
  {
   "cell_type": "markdown",
   "metadata": {},
   "source": [
    "# Energy Resolution of Germanium detectors"
   ]
  },
  {
   "cell_type": "markdown",
   "metadata": {},
   "source": [
    "Eugenia Boccanera 2109310  \n",
    "Lucrezia Rossi 2122164"
   ]
  },
  {
   "cell_type": "markdown",
   "metadata": {},
   "source": [
    "NaI and Germanium detectors have wide fields of application for γ- and X-ray spectrometry thanks to their good energy resolution. The energy resolution of these detectors is defined as the width of the detected energy spectra peaks (FWHM); it depends on  \n",
    "    - the statistics of the charge creation process  \n",
    "    - the properties of the detector, and primarly its charge collelction efficency   \n",
    "    - the electronics noise  \n",
    "\n",
    "The resolution can be expressed as the squared sum of two terms:   \n",
    "$$FWHM = \\sqrt{(w_d)^2 + (w_e)^2}$$   \n",
    "where the first term depends on the detector properties as:  \n",
    "$w_d = 2 * \\sqrt{(2 * \\log(2)) * F * E_{\\gamma} * w}$   \n",
    "with $F$ the _Fano factor_,  \n",
    "$E_{\\gamma}$  the energy of the photon deposited energy  \n",
    "$w$ the electron hole-produced energy threshold in germanium (w ~ 3eV).\n",
    "\n",
    "The $w_e$ term in eq.1 is connected with the readout electronics and depends on the detector capacitance, the size of the detector and the bias voltage.\n"
   ]
  },
  {
   "cell_type": "markdown",
   "metadata": {},
   "source": [
    "## Step 1. Data Inspection and FWHM derivation"
   ]
  },
  {
   "cell_type": "code",
   "execution_count": 487,
   "metadata": {
    "vscode": {
     "languageId": "r"
    }
   },
   "outputs": [],
   "source": [
    "# Functions\n",
    "# Function to plot the spectrum\n",
    "plot_spectrum <- function(data, title) {\n",
    "  ggplot(data, aes(x = Channel, y = log_Count)) +\n",
    "    geom_line(col='black', lwd=0.2, na.rm = TRUE) +\n",
    "    ggtitle(title) +\n",
    "    xlab(\"Channel\") +\n",
    "    ylab(\"log(Counts)\") +\n",
    "    theme_minimal() +\n",
    "    theme(axis.title = element_text(size = 14))\n",
    "}\n",
    "\n",
    "# Function to find indices of values closest to specified x values\n",
    "find_indices_around_x <- function(data, x_values) {\n",
    "  indices <- numeric(0)\n",
    "  for (x_val in x_values) {\n",
    "    index <- which.min(abs(data$Channel - x_val))\n",
    "    indices <- c(indices, index)\n",
    "  }\n",
    "  return(indices)\n",
    "}\n",
    "\n",
    "# Function to smooth data\n",
    "smooth_data <- function(data, window_size) {\n",
    "  smoothed_values <- movavg(data$log_Count, n = window_size, type = \"s\")\n",
    "  smoothed_data <- data\n",
    "  smoothed_data$log_Count <- smoothed_values\n",
    "  return(smoothed_data)\n",
    "}\n",
    "\n",
    "#  Function to plot the peaks \n",
    "plot_peaks_around_x <- function(data, title, x_values, window_size, apply_smoothing = TRUE) {\n",
    "  if (apply_smoothing) {\n",
    "    data <- smooth_data(data, window_size)\n",
    "  }\n",
    "  indices <- find_indices_around_x(data, x_values)\n",
    "  \n",
    "  # Plot the data with red points at specified x values\n",
    "  ggplot(data, aes(x = Channel, y = log_Count)) +\n",
    "    geom_line() +\n",
    "    geom_point(data = data[indices, ], aes(x = Channel, y = log_Count), color = \"red\", size = 2) +\n",
    "    ggtitle(title) +\n",
    "    xlab(\"Channel\") +\n",
    "    ylab(\"Log(Counts)\") +\n",
    "    theme_minimal() +\n",
    "    theme(plot.title = element_text(size = 20),\n",
    "          axis.title = element_text(size = 15),\n",
    "          axis.text = element_text(size = 12))\n",
    "}\n",
    "\n",
    "# Function to finth the position of the peaks\n",
    "find_and_return_peaks_around_x <- function(data, x_values, window_size, apply_smoothing = TRUE) {\n",
    "  if (apply_smoothing) {\n",
    "    data <- smooth_data(data, window_size)\n",
    "  }\n",
    "  indices <- find_indices_around_x(data, x_values)\n",
    "  # Get peak position\n",
    "  peak_positions <- data$Channel[indices]\n",
    "  # Return peak positions\n",
    "  return(peak_positions)\n",
    "}\n",
    "\n",
    "# Function to extract data points around each peak\n",
    "extract_peak_data <- function(data, peak_positions, window_size) {\n",
    "  peak_data_list <- list()\n",
    "  for (peak_pos in peak_positions) {\n",
    "    # Find the closest index to the peak position\n",
    "    index <- which.min(abs(data$Channel - peak_pos))\n",
    "    \n",
    "    # Extract data within the window size around the peak position\n",
    "    start_index <- max(1, index - window_size)\n",
    "    end_index <- min(nrow(data), index + window_size)\n",
    "    \n",
    "    # Subset the data\n",
    "    peak_data <- data[start_index:end_index, ]\n",
    "    # Store the subsetted data in a list with peak position as key\n",
    "    peak_data_list[[as.character(peak_pos)]] <- peak_data\n",
    "  }\n",
    "  \n",
    "  return(peak_data_list)\n",
    "}\n",
    "\n",
    "# Function to fit Gaussian model using nls\n",
    "fit_gaussian_nls <- function(peak_data) {\n",
    "  # Initial guesses for the parameters\n",
    "  mu_init <- peak_data$Channel[which.max(peak_data$log_Count)]\n",
    "  sigma_init <- diff(range(peak_data$Channel)) / 4  # Quarter of the range\n",
    "  A_init <- max(peak_data$log_Count)\n",
    "  \n",
    "  # Define the Gaussian function\n",
    "  gaussian <- function(x, mu, sigma, A) {\n",
    "    A * exp(-0.5 * ((x - mu) / sigma)^2)\n",
    "  }\n",
    "  \n",
    "  # Fit the model using nls\n",
    "  fit <- nls(log_Count ~ gaussian(Channel, mu, sigma, A), data = peak_data,\n",
    "             start = list(mu = mu_init, sigma = sigma_init, A = A_init),\n",
    "             control = nls.control(maxiter = 100))\n",
    "  return(fit)\n",
    "}\n",
    "\n",
    "# Function to calculate FWHM from fitted Gaussian parameters\n",
    "calculate_fwhm <- function(fit) {\n",
    "  coef_fit <- coef(fit)  # extract the coefficients\n",
    "  sigma <- coef_fit[\"sigma\"]\n",
    "  FWHM <- 2 * sqrt(2 * log(2)) * sigma\n",
    "  return(FWHM)\n",
    "}"
   ]
  },
  {
   "cell_type": "markdown",
   "metadata": {},
   "source": [
    "### 1.a Load the required libraries"
   ]
  },
  {
   "cell_type": "code",
   "execution_count": 488,
   "metadata": {
    "vscode": {
     "languageId": "r"
    }
   },
   "outputs": [],
   "source": [
    "# Load the libraries\n",
    "library(rjags)\n",
    "library(ggplot2)\n",
    "library(bayesplot)\n",
    "\n",
    "library(dplyr)\n",
    "library(nlstools)\n",
    "library(pracma)\n",
    "\n",
    "library(gridExtra)\n"
   ]
  },
  {
   "cell_type": "markdown",
   "metadata": {},
   "source": [
    "### 1.b Load the data"
   ]
  },
  {
   "cell_type": "markdown",
   "metadata": {},
   "source": [
    "The data in the files represent a typical energy spectrum obtained from a detector, in this case, a germanium detector, after being irradiated by a source containing a specific element. Each row of the file contains two values:\n",
    "\n",
    "The first value represents the detector channel, which is essentially the index or position of the data in the file.\n",
    "The second value represents the number of counts (or events) recorded in that channel during the energy measurement.\n",
    "\n",
    "**Detector Channel:**\n",
    "\n",
    "Every energy detector (such as a germanium detector) divides the range of energy it can measure into discrete channels. Each channel corresponds to a specific energy range that the detector can detect.\n",
    "\n",
    "**Counts:**\n",
    "\n",
    "The recorded counts represent the number of times the detector has detected an energy event (a gamma photon, in the case of a germanium detector) in that particular channel during the experimen\n",
    "\n"
   ]
  },
  {
   "cell_type": "code",
   "execution_count": 489,
   "metadata": {
    "vscode": {
     "languageId": "r"
    }
   },
   "outputs": [],
   "source": [
    "# Load the data\n",
    "gr11_co60 <- read.table(\"gr11_co60.txt\", header = FALSE)\n",
    "gr11_cs137 <- read.table(\"gr11_cs137.txt\", header = FALSE)\n",
    "gr11_na22 <- read.table(\"gr11_na22.txt\", header = FALSE)\n",
    "IC48A_AmCsCo <- read.table(\"IC48A_AmCsCo.txt\", header = FALSE)\n",
    "IC48A_Th <- read.table(\"IC48A_Th.txt\", header = FALSE)\n",
    "\n",
    "# Assign column names\n",
    "colnames(gr11_co60) <- c(\"Channel\", \"Count\")\n",
    "colnames(gr11_cs137) <- c(\"Channel\", \"Count\")\n",
    "colnames(gr11_na22) <- c(\"Channel\", \"Count\")\n",
    "colnames(IC48A_AmCsCo) <- c(\"Channel\", \"Count\")\n",
    "colnames(IC48A_Th) <- c(\"Channel\", \"Count\")\n",
    "\n",
    "# Drop the rows with Count < 0\n",
    "gr11_co60 <- gr11_co60[gr11_co60$Count >= 0, ]\n",
    "gr11_cs137 <- gr11_cs137[gr11_cs137$Count >= 0, ]\n",
    "gr11_na22 <- gr11_na22[gr11_na22$Count >= 0, ]\n",
    "IC48A_AmCsCo <- IC48A_AmCsCo[IC48A_AmCsCo$Count >= 0, ]\n",
    "IC48A_Th <- IC48A_Th[IC48A_Th$Count >= 0, ]\n",
    "\n",
    "# Add the column log_Count\n",
    "gr11_co60$log_Count <- log(gr11_co60$Count + 1)\n",
    "gr11_cs137$log_Count <- log(gr11_cs137$Count + 1)\n",
    "gr11_na22$log_Count <- log(gr11_na22$Count + 1)\n",
    "IC48A_AmCsCo$log_Count <- log(IC48A_AmCsCo$Count + 1)\n",
    "IC48A_Th$log_Count <- log(IC48A_Th$Count + 1)\n",
    "\n",
    "\n"
   ]
  },
  {
   "cell_type": "markdown",
   "metadata": {},
   "source": [
    "### 1.c Inspect the Data - Plot the Spectra"
   ]
  },
  {
   "cell_type": "markdown",
   "metadata": {},
   "source": [
    "Each peak in the spectrum represents a specific energy of the gamma photons emitted by radioactive sources such as Co-60, Cs-137, Na-22, AmCsCo, or Th. Analyzing these spectra allows for the identification and characterization of the radioactive sources present, evaluation of the detector's energy resolution, and the study of other properties of the detector and the sources."
   ]
  },
  {
   "cell_type": "code",
   "execution_count": 490,
   "metadata": {
    "vscode": {
     "languageId": "r"
    }
   },
   "outputs": [
    {
     "data": {
      "image/png": "[encoded data removed]",
      "text/plain": [
       "plot without title"
      ]
     },
     "metadata": {
      "image/png": {
       "height": 360,
       "width": 720
      }
     },
     "output_type": "display_data"
    },
    {
     "data": {
      "image/png": "[encoded data removed]",
      "text/plain": [
       "plot without title"
      ]
     },
     "metadata": {
      "image/png": {
       "height": 360,
       "width": 720
      }
     },
     "output_type": "display_data"
    },
    {
     "data": {
      "image/png": "[encoded data removed]",
      "text/plain": [
       "plot without title"
      ]
     },
     "metadata": {
      "image/png": {
       "height": 360,
       "width": 720
      }
     },
     "output_type": "display_data"
    },
    {
     "data": {
      "image/png": "[encoded data removed]",
      "text/plain": [
       "plot without title"
      ]
     },
     "metadata": {
      "image/png": {
       "height": 360,
       "width": 720
      }
     },
     "output_type": "display_data"
    },
    {
     "data": {
      "image/png": "[encoded data removed]",
      "text/plain": [
       "plot without title"
      ]
     },
     "metadata": {
      "image/png": {
       "height": 360,
       "width": 720
      }
     },
     "output_type": "display_data"
    }
   ],
   "source": [
    "# Plot function\n",
    "options(repr.plot.width = 12, repr.plot.height = 6)\n",
    "\n",
    "# Plot each spectrum\n",
    "plot_spectrum(gr11_co60, \"Spectrum of Co-60\")\n",
    "plot_spectrum(gr11_cs137, \"Spectrum of Cs-137\")\n",
    "plot_spectrum(gr11_na22, \"Spectrum of Na-22\")\n",
    "plot_spectrum(IC48A_AmCsCo, \"Spectrum of Am, Cs, Co\")\n",
    "plot_spectrum(IC48A_Th, \"Spectrum of Th\")\n"
   ]
  },
  {
   "cell_type": "markdown",
   "metadata": {},
   "source": [
    "### 1.d Find Peaks  and Infer FWHM"
   ]
  },
  {
   "cell_type": "code",
   "execution_count": 491,
   "metadata": {
    "vscode": {
     "languageId": "r"
    }
   },
   "outputs": [
    {
     "data": {
      "image/png": "[encoded data removed]",
      "text/plain": [
       "plot without title"
      ]
     },
     "metadata": {
      "image/png": {
       "height": 360,
       "width": 720
      }
     },
     "output_type": "display_data"
    },
    {
     "data": {
      "image/png": "[encoded data removed]",
      "text/plain": [
       "plot without title"
      ]
     },
     "metadata": {
      "image/png": {
       "height": 360,
       "width": 720
      }
     },
     "output_type": "display_data"
    },
    {
     "data": {
      "image/png": "[encoded data removed]",
      "text/plain": [
       "plot without title"
      ]
     },
     "metadata": {
      "image/png": {
       "height": 360,
       "width": 720
      }
     },
     "output_type": "display_data"
    },
    {
     "data": {
      "image/png": "[encoded data removed]",
      "text/plain": [
       "plot without title"
      ]
     },
     "metadata": {
      "image/png": {
       "height": 360,
       "width": 720
      }
     },
     "output_type": "display_data"
    },
    {
     "data": {
      "text/html": [
       "<style>\n",
       ".list-inline {list-style: none; margin:0; padding: 0}\n",
       ".list-inline>li {display: inline-block}\n",
       ".list-inline>li:not(:last-child)::after {content: \"\\00b7\"; padding: 0 .5ex}\n",
       "</style>\n",
       "<ol class=list-inline><li>647</li><li>3057</li><li>3457</li></ol>\n"
      ],
      "text/latex": [
       "\\begin{enumerate*}\n",
       "\\item 647\n",
       "\\item 3057\n",
       "\\item 3457\n",
       "\\end{enumerate*}\n"
      ],
      "text/markdown": [
       "1. 647\n",
       "2. 3057\n",
       "3. 3457\n",
       "\n",
       "\n"
      ],
      "text/plain": [
       "[1]  647 3057 3457"
      ]
     },
     "metadata": {},
     "output_type": "display_data"
    },
    {
     "data": {
      "text/html": [
       "<style>\n",
       ".list-inline {list-style: none; margin:0; padding: 0}\n",
       ".list-inline>li {display: inline-block}\n",
       ".list-inline>li:not(:last-child)::after {content: \"\\00b7\"; padding: 0 .5ex}\n",
       "</style>\n",
       "<ol class=list-inline><li>599</li><li>1779</li></ol>\n"
      ],
      "text/latex": [
       "\\begin{enumerate*}\n",
       "\\item 599\n",
       "\\item 1779\n",
       "\\end{enumerate*}\n"
      ],
      "text/markdown": [
       "1. 599\n",
       "2. 1779\n",
       "\n",
       "\n"
      ],
      "text/plain": [
       "[1]  599 1779"
      ]
     },
     "metadata": {},
     "output_type": "display_data"
    },
    {
     "data": {
      "text/html": [
       "<style>\n",
       ".list-inline {list-style: none; margin:0; padding: 0}\n",
       ".list-inline>li {display: inline-block}\n",
       ".list-inline>li:not(:last-child)::after {content: \"\\00b7\"; padding: 0 .5ex}\n",
       "</style>\n",
       "<ol class=list-inline><li>609</li><li>1365</li><li>3301</li></ol>\n"
      ],
      "text/latex": [
       "\\begin{enumerate*}\n",
       "\\item 609\n",
       "\\item 1365\n",
       "\\item 3301\n",
       "\\end{enumerate*}\n"
      ],
      "text/markdown": [
       "1. 609\n",
       "2. 1365\n",
       "3. 3301\n",
       "\n",
       "\n"
      ],
      "text/plain": [
       "[1]  609 1365 3301"
      ]
     },
     "metadata": {},
     "output_type": "display_data"
    },
    {
     "data": {
      "text/html": [
       "<style>\n",
       ".list-inline {list-style: none; margin:0; padding: 0}\n",
       ".list-inline>li {display: inline-block}\n",
       ".list-inline>li:not(:last-child)::after {content: \"\\00b7\"; padding: 0 .5ex}\n",
       "</style>\n",
       "<ol class=list-inline><li>206</li><li>2280</li><li>4041</li><li>4589</li><li>8623</li></ol>\n"
      ],
      "text/latex": [
       "\\begin{enumerate*}\n",
       "\\item 206\n",
       "\\item 2280\n",
       "\\item 4041\n",
       "\\item 4589\n",
       "\\item 8623\n",
       "\\end{enumerate*}\n"
      ],
      "text/markdown": [
       "1. 206\n",
       "2. 2280\n",
       "3. 4041\n",
       "4. 4589\n",
       "5. 8623\n",
       "\n",
       "\n"
      ],
      "text/plain": [
       "[1]  206 2280 4041 4589 8623"
      ]
     },
     "metadata": {},
     "output_type": "display_data"
    },
    {
     "data": {
      "text/html": [
       "<style>\n",
       ".list-inline {list-style: none; margin:0; padding: 0}\n",
       ".list-inline>li {display: inline-block}\n",
       ".list-inline>li:not(:last-child)::after {content: \"\\00b7\"; padding: 0 .5ex}\n",
       "</style>\n",
       "<ol class=list-inline><li>485</li><li>1504</li><li>1890</li><li>3218</li><li>3674</li><li>4581</li><li>4948</li><li>5420</li><li>6793</li><li>9525</li><li>10025</li><li>10202</li><li>13240</li><li>16452</li><li>20099</li></ol>\n"
      ],
      "text/latex": [
       "\\begin{enumerate*}\n",
       "\\item 485\n",
       "\\item 1504\n",
       "\\item 1890\n",
       "\\item 3218\n",
       "\\item 3674\n",
       "\\item 4581\n",
       "\\item 4948\n",
       "\\item 5420\n",
       "\\item 6793\n",
       "\\item 9525\n",
       "\\item 10025\n",
       "\\item 10202\n",
       "\\item 13240\n",
       "\\item 16452\n",
       "\\item 20099\n",
       "\\end{enumerate*}\n"
      ],
      "text/markdown": [
       "1. 485\n",
       "2. 1504\n",
       "3. 1890\n",
       "4. 3218\n",
       "5. 3674\n",
       "6. 4581\n",
       "7. 4948\n",
       "8. 5420\n",
       "9. 6793\n",
       "10. 9525\n",
       "11. 10025\n",
       "12. 10202\n",
       "13. 13240\n",
       "14. 16452\n",
       "15. 20099\n",
       "\n",
       "\n"
      ],
      "text/plain": [
       " [1]   485  1504  1890  3218  3674  4581  4948  5420  6793  9525 10025 10202\n",
       "[13] 13240 16452 20099"
      ]
     },
     "metadata": {},
     "output_type": "display_data"
    },
    {
     "data": {
      "image/png": "[encoded data removed]",
      "text/plain": [
       "plot without title"
      ]
     },
     "metadata": {
      "image/png": {
       "height": 360,
       "width": 720
      }
     },
     "output_type": "display_data"
    }
   ],
   "source": [
    "# Inferred initial positions of the peaks\n",
    "position_co60 <- c(647, 3058, 3458)\n",
    "position_cs137 <- c(600, 1779)\n",
    "position_na22 <- c(609, 1366, 3302)\n",
    "position_AmCsCo<- c(206, 2280, 4041, 4589, 8623) \n",
    "position_Th <- c( 485, 1504,1890,  3218, 3674, 4581,4948 , 5420, 6793, 9525, 10025, 10202,13240, 16452, 20099) \n",
    "\n",
    "# Plot the peak positions\n",
    "plot_peaks_around_x(gr11_co60, \"Spectrum of Co-60 with Peaks at Specified X Values\", x_values =position_co60, window_size = 5, apply_smoothing = TRUE)\n",
    "plot_peaks_around_x(gr11_cs137, \"Spectrum of Cs-137 with Peaks at Specified X Values\", x_values = position_cs137, window_size = 5, apply_smoothing = TRUE)\n",
    "plot_peaks_around_x(gr11_na22, \"Spectrum of Na-22 with Peaks at Specified X Values\", x_values = position_na22, window_size = 5, apply_smoothing = TRUE)\n",
    "plot_peaks_around_x(IC48A_AmCsCo, \"Spectrum of Am, Cs, Co with Peaks at Specified X Values\", x_values = position_AmCsCo, window_size = 8, apply_smoothing = FALSE)\n",
    "plot_peaks_around_x(IC48A_Th, \"Spectrum of Th with Peaks at Specified X Values\", x_values = position_Th, window_size = 8, apply_smoothing = FALSE)\n",
    "\n",
    "# Return the peak positions\n",
    "peaks_co60 <- find_and_return_peaks_around_x (gr11_co60, x_values = position_co60, window_size = 5, apply_smoothing = TRUE)\n",
    "peaks_cs137 <- find_and_return_peaks_around_x (gr11_cs137, x_values = position_cs137, window_size = 5, apply_smoothing = TRUE)\n",
    "peaks_na22 <- find_and_return_peaks_around_x (gr11_na22, x_values = position_na22, window_size = 5, apply_smoothing = TRUE)\n",
    "peaks_AmCsCo <- find_and_return_peaks_around_x (IC48A_AmCsCo, x_values = position_AmCsCo, window_size = 8, apply_smoothing = FALSE)\n",
    "peaks_Th <- find_and_return_peaks_around_x (IC48A_Th, x_values = position_Th, window_size = 8, apply_smoothing = FALSE)\n",
    "\n",
    "peaks_co60\n",
    "peaks_cs137\n",
    "peaks_na22\n",
    "peaks_AmCsCo\n",
    "peaks_Th"
   ]
  },
  {
   "cell_type": "code",
   "execution_count": 492,
   "metadata": {
    "vscode": {
     "languageId": "r"
    }
   },
   "outputs": [
    {
     "name": "stdout",
     "output_type": "stream",
     "text": [
      "$`206`\n",
      "    Channel Count log_Count\n",
      "194     193     0 0.0000000\n",
      "195     194     0 0.0000000\n",
      "196     195     0 0.0000000\n",
      "197     196     0 0.0000000\n",
      "198     197     0 0.0000000\n",
      "199     198     1 0.6931472\n",
      "200     199     0 0.0000000\n",
      "201     200     1 0.6931472\n",
      "202     201     3 1.3862944\n",
      "203     202    48 3.8918203\n",
      "204     203   328 5.7960578\n",
      "205     204  1459 7.2861917\n",
      "206     205  3690 8.2136527\n",
      "207     206  5758 8.6585191\n",
      "208     207  4707 8.4570185\n",
      "209     208  2114 7.6568101\n",
      "210     209   570 6.3473892\n",
      "211     210   193 5.2678582\n",
      "212     211    97 4.5849675\n",
      "213     212   132 4.8903491\n",
      "214     213   136 4.9199809\n",
      "215     214   150 5.0172798\n",
      "216     215   146 4.9904326\n",
      "217     216   161 5.0875963\n",
      "218     217   169 5.1357984\n",
      "219     218   231 5.4467374\n",
      "220     219   230 5.4424177\n",
      "\n",
      "$`2280`\n",
      "     Channel Count log_Count\n",
      "2268    2267   182  5.209486\n",
      "2269    2268   188  5.241747\n",
      "2270    2269   195  5.278115\n",
      "2271    2270   225  5.420535\n",
      "2272    2271   324  5.783825\n",
      "2273    2272   536  6.285998\n",
      "2274    2273  1286  7.160069\n",
      "2275    2274  2947  7.988882\n",
      "2276    2275  6019  8.702843\n",
      "2277    2276 10521  9.261224\n",
      "2278    2277 16794  9.728837\n",
      "2279    2278 22759 10.032760\n",
      "2280    2279 26951 10.201813\n",
      "2281    2280 26606 10.188930\n",
      "2282    2281 21441  9.973107\n",
      "2283    2282 14118  9.555277\n",
      "2284    2283  7650  8.942592\n",
      "2285    2284  3182  8.065579\n",
      "2286    2285  1184  7.077498\n",
      "2287    2286   349  5.857933\n",
      "2288    2287   141  4.955827\n",
      "2289    2288    98  4.595120\n",
      "2290    2289    86  4.465908\n",
      "2291    2290    91  4.521789\n",
      "2292    2291    78  4.369448\n",
      "2293    2292    79  4.382027\n",
      "2294    2293    78  4.369448\n",
      "\n",
      "$`4041`\n",
      "     Channel Count log_Count\n",
      "4029    4028   134  4.905275\n",
      "4030    4029   145  4.983607\n",
      "4031    4030   270  5.602119\n",
      "4032    4031   455  6.122493\n",
      "4033    4032   743  6.612041\n",
      "4034    4033  1265  7.143618\n",
      "4035    4034  1897  7.548556\n",
      "4036    4035  2867  7.961370\n",
      "4037    4036  3722  8.222285\n",
      "4038    4037  4884  8.493925\n",
      "4039    4038  5957  8.692490\n",
      "4040    4039  6888  8.837681\n",
      "4041    4040  7477  8.919721\n",
      "4042    4041  7395  8.908695\n",
      "4043    4042  6499  8.779557\n",
      "4044    4043  5013  8.519989\n",
      "4045    4044  3273  8.093768\n",
      "4046    4045  1929  7.565275\n",
      "4047    4046  1010  6.918695\n",
      "4048    4047   457  6.126869\n",
      "4049    4048   176  5.176150\n",
      "4050    4049    92  4.532599\n",
      "4051    4050    53  3.988984\n",
      "4052    4051    51  3.951244\n",
      "4053    4052    44  3.806662\n",
      "4054    4053    50  3.931826\n",
      "4055    4054    49  3.912023\n",
      "\n",
      "$`4589`\n",
      "     Channel Count log_Count\n",
      "4577    4576   114  4.744932\n",
      "4578    4577   189  5.247024\n",
      "4579    4578   345  5.846439\n",
      "4580    4579   560  6.329721\n",
      "4581    4580   975  6.883463\n",
      "4582    4581  1461  7.287561\n",
      "4583    4582  2084  7.642524\n",
      "4584    4583  2701  7.901748\n",
      "4585    4584  3464  8.150468\n",
      "4586    4585  4218  8.347353\n",
      "4587    4586  5140  8.545003\n",
      "4588    4587  5830  8.670944\n",
      "4589    4588  6233  8.737773\n",
      "4590    4589  6223  8.736168\n",
      "4591    4590  5473  8.607765\n",
      "4592    4591  4257  8.356555\n",
      "4593    4592  2966  7.995307\n",
      "4594    4593  1917  7.559038\n",
      "4595    4594  1046  6.953684\n",
      "4596    4595   517  6.249975\n",
      "4597    4596   211  5.356586\n",
      "4598    4597    89  4.499810\n",
      "4599    4598    43  3.784190\n",
      "4600    4599    14  2.708050\n",
      "4601    4600    24  3.218876\n",
      "4602    4601    11  2.484907\n",
      "4603    4602    10  2.397895\n",
      "\n",
      "$`8623`\n",
      "     Channel Count log_Count\n",
      "8611    8610    74 4.3174881\n",
      "8612    8611    78 4.3694479\n",
      "8613    8612    99 4.6051702\n",
      "8614    8613   105 4.6634391\n",
      "8615    8614   106 4.6728288\n",
      "8616    8615   135 4.9126549\n",
      "8617    8616   152 5.0304379\n",
      "8618    8617   143 4.9698133\n",
      "8619    8618   162 5.0937502\n",
      "8620    8619   169 5.1357984\n",
      "8621    8620   187 5.2364420\n",
      "8622    8621   171 5.1474945\n",
      "8623    8622   194 5.2729996\n",
      "8624    8623   189 5.2470241\n",
      "8625    8624   183 5.2149358\n",
      "8626    8625   170 5.1416636\n",
      "8627    8626   133 4.8978398\n",
      "8628    8627   105 4.6634391\n",
      "8629    8628    69 4.2484952\n",
      "8630    8629    56 4.0430513\n",
      "8631    8630    40 3.7135721\n",
      "8632    8631    26 3.2958369\n",
      "8633    8632    19 2.9957323\n",
      "8634    8633     9 2.3025851\n",
      "8635    8634     0 0.0000000\n",
      "8636    8635     1 0.6931472\n",
      "8637    8636     1 0.6931472\n",
      "\n"
     ]
    }
   ],
   "source": [
    "# Extract data points around each peak\n",
    "peak_data_list_AmCsCo <- extract_peak_data(IC48A_AmCsCo, peaks_AmCsCo, window_size = 13)\n",
    "peak_data_list_Th <- extract_peak_data(IC48A_Th, peaks_Th, window_size = 9)\n",
    "print(peak_data_list_AmCsCo) # example\n"
   ]
  },
  {
   "cell_type": "markdown",
   "metadata": {},
   "source": [
    "### 1.e Fit Gaussian and Calculate FWHM "
   ]
  },
  {
   "cell_type": "markdown",
   "metadata": {},
   "source": [
    "Now we fit a Gaussian model to peak data using initial parameter guesses and non-linear least squares optimization. Then we apply this fitting procedure to the sets of peak data and outputs the results."
   ]
  },
  {
   "cell_type": "code",
   "execution_count": 493,
   "metadata": {
    "vscode": {
     "languageId": "r"
    }
   },
   "outputs": [
    {
     "name": "stdout",
     "output_type": "stream",
     "text": [
      "Fits_AmCsCo: \n"
     ]
    },
    {
     "data": {
      "text/plain": [
       "$`206`\n",
       "Nonlinear regression model\n",
       "  model: log_Count ~ gaussian(Channel, mu, sigma, A)\n",
       "   data: peak_data\n",
       "     mu   sigma       A \n",
       "209.717   6.894   7.135 \n",
       " residual sum-of-squares: 67.93\n",
       "\n",
       "Number of iterations to convergence: 14 \n",
       "Achieved convergence tolerance: 6.629e-06\n",
       "\n",
       "$`2280`\n",
       "Nonlinear regression model\n",
       "  model: log_Count ~ gaussian(Channel, mu, sigma, A)\n",
       "   data: peak_data\n",
       "      mu    sigma        A \n",
       "2278.831    8.966    9.605 \n",
       " residual sum-of-squares: 15\n",
       "\n",
       "Number of iterations to convergence: 7 \n",
       "Achieved convergence tolerance: 2.273e-06\n",
       "\n",
       "$`4041`\n",
       "Nonlinear regression model\n",
       "  model: log_Count ~ gaussian(Channel, mu, sigma, A)\n",
       "   data: peak_data\n",
       "      mu    sigma        A \n",
       "4039.188    9.727    8.816 \n",
       " residual sum-of-squares: 4.237\n",
       "\n",
       "Number of iterations to convergence: 5 \n",
       "Achieved convergence tolerance: 9.817e-06\n",
       "\n",
       "$`4589`\n",
       "Nonlinear regression model\n",
       "  model: log_Count ~ gaussian(Channel, mu, sigma, A)\n",
       "   data: peak_data\n",
       "      mu    sigma        A \n",
       "4586.778    9.175    8.898 \n",
       " residual sum-of-squares: 2.839\n",
       "\n",
       "Number of iterations to convergence: 5 \n",
       "Achieved convergence tolerance: 1.408e-06\n",
       "\n",
       "$`8623`\n",
       "Nonlinear regression model\n",
       "  model: log_Count ~ gaussian(Channel, mu, sigma, A)\n",
       "   data: peak_data\n",
       "      mu    sigma        A \n",
       "8619.277   10.137    5.561 \n",
       " residual sum-of-squares: 8.645\n",
       "\n",
       "Number of iterations to convergence: 6 \n",
       "Achieved convergence tolerance: 5.952e-06\n"
      ]
     },
     "metadata": {},
     "output_type": "display_data"
    },
    {
     "name": "stdout",
     "output_type": "stream",
     "text": [
      "Fits_Th: \n"
     ]
    },
    {
     "data": {
      "text/plain": [
       "$`485`\n",
       "Nonlinear regression model\n",
       "  model: log_Count ~ gaussian(Channel, mu, sigma, A)\n",
       "   data: peak_data\n",
       "    mu  sigma      A \n",
       "484.15  11.87  10.61 \n",
       " residual sum-of-squares: 2.973\n",
       "\n",
       "Number of iterations to convergence: 6 \n",
       "Achieved convergence tolerance: 8.235e-06\n",
       "\n",
       "$`1504`\n",
       "Nonlinear regression model\n",
       "  model: log_Count ~ gaussian(Channel, mu, sigma, A)\n",
       "   data: peak_data\n",
       "     mu   sigma       A \n",
       "1503.04   10.21   11.63 \n",
       " residual sum-of-squares: 1.918\n",
       "\n",
       "Number of iterations to convergence: 6 \n",
       "Achieved convergence tolerance: 1.206e-06\n",
       "\n",
       "$`1890`\n",
       "Nonlinear regression model\n",
       "  model: log_Count ~ gaussian(Channel, mu, sigma, A)\n",
       "   data: peak_data\n",
       "      mu    sigma        A \n",
       "1889.879   11.177    8.873 \n",
       " residual sum-of-squares: 0.9691\n",
       "\n",
       "Number of iterations to convergence: 6 \n",
       "Achieved convergence tolerance: 2.39e-06\n",
       "\n",
       "$`3218`\n",
       "Nonlinear regression model\n",
       "  model: log_Count ~ gaussian(Channel, mu, sigma, A)\n",
       "   data: peak_data\n",
       "     mu   sigma       A \n",
       "3216.44   12.16    9.31 \n",
       " residual sum-of-squares: 0.2382\n",
       "\n",
       "Number of iterations to convergence: 6 \n",
       "Achieved convergence tolerance: 9.875e-07\n",
       "\n",
       "$`3674`\n",
       "Nonlinear regression model\n",
       "  model: log_Count ~ gaussian(Channel, mu, sigma, A)\n",
       "   data: peak_data\n",
       "     mu   sigma       A \n",
       "3672.30   10.93   10.60 \n",
       " residual sum-of-squares: 0.3289\n",
       "\n",
       "Number of iterations to convergence: 6 \n",
       "Achieved convergence tolerance: 2.702e-07\n",
       "\n",
       "$`4581`\n",
       "Nonlinear regression model\n",
       "  model: log_Count ~ gaussian(Channel, mu, sigma, A)\n",
       "   data: peak_data\n",
       "      mu    sigma        A \n",
       "4579.453   11.251    8.831 \n",
       " residual sum-of-squares: 0.1905\n",
       "\n",
       "Number of iterations to convergence: 6 \n",
       "Achieved convergence tolerance: 3.143e-07\n",
       "\n",
       "$`4948`\n",
       "Nonlinear regression model\n",
       "  model: log_Count ~ gaussian(Channel, mu, sigma, A)\n",
       "   data: peak_data\n",
       "      mu    sigma        A \n",
       "4945.885   11.017    6.927 \n",
       " residual sum-of-squares: 0.09144\n",
       "\n",
       "Number of iterations to convergence: 5 \n",
       "Achieved convergence tolerance: 7.281e-06\n",
       "\n",
       "$`5420`\n",
       "Nonlinear regression model\n",
       "  model: log_Count ~ gaussian(Channel, mu, sigma, A)\n",
       "   data: peak_data\n",
       "      mu    sigma        A \n",
       "5418.209   11.518    8.268 \n",
       " residual sum-of-squares: 0.1447\n",
       "\n",
       "Number of iterations to convergence: 6 \n",
       "Achieved convergence tolerance: 3.216e-07\n",
       "\n",
       "$`6793`\n",
       "Nonlinear regression model\n",
       "  model: log_Count ~ gaussian(Channel, mu, sigma, A)\n",
       "   data: peak_data\n",
       "      mu    sigma        A \n",
       "6791.651   12.427    5.894 \n",
       " residual sum-of-squares: 0.1215\n",
       "\n",
       "Number of iterations to convergence: 6 \n",
       "Achieved convergence tolerance: 5.493e-07\n",
       "\n",
       "$`9525`\n",
       "Nonlinear regression model\n",
       "  model: log_Count ~ gaussian(Channel, mu, sigma, A)\n",
       "   data: peak_data\n",
       "      mu    sigma        A \n",
       "9523.813   14.509    5.196 \n",
       " residual sum-of-squares: 0.1466\n",
       "\n",
       "Number of iterations to convergence: 6 \n",
       "Achieved convergence tolerance: 4.349e-08\n",
       "\n",
       "$`10025`\n",
       "Nonlinear regression model\n",
       "  model: log_Count ~ gaussian(Channel, mu, sigma, A)\n",
       "   data: peak_data\n",
       "      mu    sigma        A \n",
       "10026.05    13.86     6.21 \n",
       " residual sum-of-squares: 0.0363\n",
       "\n",
       "Number of iterations to convergence: 6 \n",
       "Achieved convergence tolerance: 1.27e-08\n",
       "\n",
       "$`10202`\n",
       "Nonlinear regression model\n",
       "  model: log_Count ~ gaussian(Channel, mu, sigma, A)\n",
       "   data: peak_data\n",
       "       mu     sigma         A \n",
       "10202.343    15.440     6.428 \n",
       " residual sum-of-squares: 0.07794\n",
       "\n",
       "Number of iterations to convergence: 6 \n",
       "Achieved convergence tolerance: 1.89e-06\n",
       "\n",
       "$`13240`\n",
       "Nonlinear regression model\n",
       "  model: log_Count ~ gaussian(Channel, mu, sigma, A)\n",
       "   data: peak_data\n",
       "       mu     sigma         A \n",
       "13238.132    22.888     6.636 \n",
       " residual sum-of-squares: 0.04237\n",
       "\n",
       "Number of iterations to convergence: 7 \n",
       "Achieved convergence tolerance: 1.381e-07\n",
       "\n",
       "$`16452`\n",
       "Nonlinear regression model\n",
       "  model: log_Count ~ gaussian(Channel, mu, sigma, A)\n",
       "   data: peak_data\n",
       "       mu     sigma         A \n",
       "16449.078    21.007     8.873 \n",
       " residual sum-of-squares: 0.008081\n",
       "\n",
       "Number of iterations to convergence: 7 \n",
       "Achieved convergence tolerance: 6.607e-08\n",
       "\n",
       "$`20099`\n",
       "Nonlinear regression model\n",
       "  model: log_Count ~ gaussian(Channel, mu, sigma, A)\n",
       "   data: peak_data\n",
       "       mu     sigma         A \n",
       "20096.897    16.008     3.943 \n",
       " residual sum-of-squares: 0.4109\n",
       "\n",
       "Number of iterations to convergence: 6 \n",
       "Achieved convergence tolerance: 4.926e-07\n"
      ]
     },
     "metadata": {},
     "output_type": "display_data"
    }
   ],
   "source": [
    "# Fit the model for each peak\n",
    "fits_AmCsCo <- lapply(peak_data_list_AmCsCo, fit_gaussian_nls)\n",
    "fits_Th <- lapply(peak_data_list_Th, fit_gaussian_nls)\n",
    "\n",
    "cat('Fits_AmCsCo: \\n')\n",
    "fits_AmCsCo\n",
    "cat('Fits_Th: \\n')\n",
    "fits_Th\n"
   ]
  },
  {
   "cell_type": "code",
   "execution_count": 494,
   "metadata": {
    "vscode": {
     "languageId": "r"
    }
   },
   "outputs": [
    {
     "name": "stdout",
     "output_type": "stream",
     "text": [
      "FWHM values for AmCsCo: \n",
      " 206.sigma 2280.sigma 4041.sigma 4589.sigma 8623.sigma \n",
      "  16.23476   21.11418   22.90557   21.60508   23.87002 \n",
      "FWHM values for Th: \n",
      "  485.sigma  1504.sigma  1890.sigma  3218.sigma  3674.sigma  4581.sigma \n",
      "   27.95363    24.04903    26.31983    28.63988    25.74755    26.49359 \n",
      " 4948.sigma  5420.sigma  6793.sigma  9525.sigma 10025.sigma 10202.sigma \n",
      "   25.94296    27.12377    29.26375    34.16497    32.63046    36.35886 \n",
      "13240.sigma 16452.sigma 20099.sigma \n",
      "   53.89640    49.46723    37.69693 \n"
     ]
    }
   ],
   "source": [
    "# Calculate FWHM for each peak\n",
    "fwhm_values_AmCsCo <- sapply(fits_AmCsCo, calculate_fwhm)\n",
    "cat('FWHM values for AmCsCo: \\n')\n",
    "print(fwhm_values_AmCsCo)\n",
    "\n",
    "fwhm_values_Th <- sapply(fits_Th, calculate_fwhm)\n",
    "cat('FWHM values for Th: \\n')\n",
    "print(fwhm_values_Th)\n"
   ]
  },
  {
   "cell_type": "code",
   "execution_count": 495,
   "metadata": {
    "vscode": {
     "languageId": "r"
    }
   },
   "outputs": [
    {
     "data": {
      "image/png": "[encoded data removed]",
      "text/plain": [
       "Plot with title \"Peak Position vs FWHM\""
      ]
     },
     "metadata": {
      "image/png": {
       "height": 360,
       "width": 720
      }
     },
     "output_type": "display_data"
    }
   ],
   "source": [
    "# Let's check the data\n",
    "peak_positions <- peaks_AmCsCo\n",
    "fwhm_values <- fwhm_values_AmCsCo\n",
    "\n",
    "# Plotting peak positions against FWHM values\n",
    "plot(peak_positions, fwhm_values,\n",
    "     xlab = \"Peak Position\",\n",
    "     ylab = \"FWHM (sigma)\",\n",
    "     main = \"Peak Position vs FWHM\")\n",
    "\n",
    "# Adding a linear regression line\n",
    "abline(lm(fwhm_values ~ peak_positions), col = \"red\")"
   ]
  },
  {
   "cell_type": "code",
   "execution_count": 496,
   "metadata": {
    "vscode": {
     "languageId": "r"
    }
   },
   "outputs": [
    {
     "data": {
      "image/png": "[encoded data removed]",
      "text/plain": [
       "Plot with title \"Peak Position vs FWHM\""
      ]
     },
     "metadata": {
      "image/png": {
       "height": 360,
       "width": 720
      }
     },
     "output_type": "display_data"
    }
   ],
   "source": [
    "peak_positions <- peaks_Th\n",
    "fwhm_values <- fwhm_values_Th\n",
    "\n",
    "# Plotting peak positions against FWHM values\n",
    "plot(peak_positions, fwhm_values,\n",
    "     xlab = \"Peak Position\",\n",
    "     ylab = \"FWHM (sigma)\",\n",
    "     main = \"Peak Position vs FWHM\")\n",
    "\n",
    "# Adding a linear regression line\n",
    "abline(lm(fwhm_values ~ peak_positions), col = \"red\")"
   ]
  },
  {
   "cell_type": "markdown",
   "metadata": {},
   "source": [
    "## Step 2: Calibration of Detector\n",
    "To perform a calibration of the detector, we need to establish a relationship between the channel number (position of the peak) and the known energies of the gamma peaks. Assuming a linear response, this relationship can be expressed as:\n",
    "$$ E=a⋅x+b $$\n",
    "\n",
    "where:\n",
    "* E is the energy in keV,\n",
    "* x is the channel number,\n",
    "* a and b are the calibration constants.\n",
    "We can perform this calibration using a set of known gamma energies corresponding to the detected peaks.\n",
    "\n",
    "\n",
    " \n"
   ]
  },
  {
   "cell_type": "code",
   "execution_count": 497,
   "metadata": {
    "vscode": {
     "languageId": "r"
    }
   },
   "outputs": [],
   "source": [
    "# Functions \n",
    "# Function to convert channel to energy\n",
    "channel_to_energy <- function(channel, model, predictor) {\n",
    "  predict(model, newdata = setNames(data.frame(channel), predictor))\n",
    "}"
   ]
  },
  {
   "cell_type": "markdown",
   "metadata": {},
   "source": [
    "#### Steps to Perform Calibration\n",
    "### 2.a Identify Known Gamma Energies: \n",
    "We need to have the nominal gamma peak energies for the isotopes in the data. "
   ]
  },
  {
   "cell_type": "code",
   "execution_count": 498,
   "metadata": {
    "vscode": {
     "languageId": "r"
    }
   },
   "outputs": [],
   "source": [
    "# Given gamma energies (in keV) corresponding to the detected peaks\n",
    "AmCsCo_energies <- c(59.5409, 661.657, 1173.228, 1332.492, 2505.69)\n",
    "Th_energies <- c(238.632, 300.089, 510.74, 583.187, 727.330, 763.45 , 785.37, 860.53, 893.408, 1078.63, 1512.70, 1592.511, 1620.738, 2103.511, 2614.511)\n",
    "\n",
    "# Create a data frame with the positions and corresponding energies\n",
    "calibration_data_AmCsCo <- data.frame(\n",
    "  Channel_AmCsCo = peaks_AmCsCo,\n",
    "  Energy_AmCsCo = AmCsCo_energies\n",
    ")\n",
    "calibration_data_Th <- data.frame(\n",
    "  Channel_Th = peaks_Th,\n",
    "  Energy_Th = Th_energies\n",
    ")"
   ]
  },
  {
   "cell_type": "markdown",
   "metadata": {},
   "source": [
    "### 2.b Fit the Line: \n",
    "Use the identified peak positions (centroids) and their corresponding gamma energies to fit a linear model."
   ]
  },
  {
   "cell_type": "code",
   "execution_count": 499,
   "metadata": {
    "vscode": {
     "languageId": "r"
    }
   },
   "outputs": [
    {
     "data": {
      "text/plain": [
       "\n",
       "Call:\n",
       "lm(formula = Energy_AmCsCo ~ Channel_AmCsCo, data = calibration_data_AmCsCo)\n",
       "\n",
       "Residuals:\n",
       "      1       2       3       4       5 \n",
       " 0.5032 -0.1498 -0.3804 -0.3823  0.4093 \n",
       "\n",
       "Coefficients:\n",
       "                 Estimate Std. Error  t value Pr(>|t|)    \n",
       "(Intercept)    -8.324e-01  3.829e-01   -2.174    0.118    \n",
       "Channel_AmCsCo  2.906e-01  7.915e-05 3671.859 4.45e-11 ***\n",
       "---\n",
       "Signif. codes:  0 '***' 0.001 '**' 0.01 '*' 0.05 '.' 0.1 ' ' 1\n",
       "\n",
       "Residual standard error: 0.4947 on 3 degrees of freedom\n",
       "Multiple R-squared:      1,\tAdjusted R-squared:      1 \n",
       "F-statistic: 1.348e+07 on 1 and 3 DF,  p-value: 4.455e-11\n"
      ]
     },
     "metadata": {},
     "output_type": "display_data"
    },
    {
     "data": {
      "text/plain": [
       "\n",
       "Call:\n",
       "lm(formula = Energy_Th ~ Channel_Th, data = calibration_data_Th)\n",
       "\n",
       "Residuals:\n",
       "     Min       1Q   Median       3Q      Max \n",
       "-240.233  -53.706    0.797   72.222  194.619 \n",
       "\n",
       "Coefficients:\n",
       "             Estimate Std. Error t value Pr(>|t|)    \n",
       "(Intercept) 2.070e+02  4.970e+01   4.164  0.00111 ** \n",
       "Channel_Th  1.167e-01  5.347e-03  21.833 1.25e-11 ***\n",
       "---\n",
       "Signif. codes:  0 '***' 0.001 '**' 0.01 '*' 0.05 '.' 0.1 ' ' 1\n",
       "\n",
       "Residual standard error: 114.6 on 13 degrees of freedom\n",
       "Multiple R-squared:  0.9735,\tAdjusted R-squared:  0.9714 \n",
       "F-statistic: 476.7 on 1 and 13 DF,  p-value: 1.253e-11\n"
      ]
     },
     "metadata": {},
     "output_type": "display_data"
    },
    {
     "name": "stderr",
     "output_type": "stream",
     "text": [
      "\u001b[1m\u001b[22m`geom_smooth()` using formula = 'y ~ x'\n",
      "\u001b[1m\u001b[22m`geom_smooth()` using formula = 'y ~ x'\n"
     ]
    },
    {
     "data": {
      "image/png": "[encoded data removed]",
      "text/plain": [
       "plot without title"
      ]
     },
     "metadata": {
      "image/png": {
       "height": 360,
       "width": 720
      }
     },
     "output_type": "display_data"
    },
    {
     "data": {
      "image/png": "[encoded data removed]",
      "text/plain": [
       "plot without title"
      ]
     },
     "metadata": {
      "image/png": {
       "height": 360,
       "width": 720
      }
     },
     "output_type": "display_data"
    }
   ],
   "source": [
    "# Fit the linear model\n",
    "calibration_model_AmCsCo <- lm(Energy_AmCsCo ~ Channel_AmCsCo, data = calibration_data_AmCsCo)\n",
    "calibration_model_Th <- lm(Energy_Th ~ Channel_Th, data = calibration_data_Th)\n",
    "summary(calibration_model_AmCsCo)\n",
    "summary(calibration_model_Th)\n",
    "\n",
    "# Plot the calibration data and the fitted model\n",
    "ggplot(calibration_data_AmCsCo, aes(x = Channel_AmCsCo, y = Energy_AmCsCo)) +\n",
    "  geom_point() +\n",
    "  geom_smooth(method = \"lm\", col = \"red\") +\n",
    "  ggtitle(\"Calibration Curve AmCsCo\") +\n",
    "  xlab(\"Channel Number\") +\n",
    "  ylab(\"Energy (keV)\")\n",
    "\n",
    "ggplot(calibration_data_Th, aes(x = Channel_Th, y = Energy_Th)) +\n",
    "  geom_point() +\n",
    "  geom_smooth(method = \"lm\", col = \"red\") +\n",
    "  ggtitle(\"Calibration Curve Th\") +\n",
    "  xlab(\"Channel Number\") +\n",
    "  ylab(\"Energy (keV)\")"
   ]
  },
  {
   "cell_type": "markdown",
   "metadata": {},
   "source": [
    "### 2.c Apply Calibration: Use the linear model to convert channel numbers to energies.  "
   ]
  },
  {
   "cell_type": "code",
   "execution_count": 500,
   "metadata": {
    "vscode": {
     "languageId": "r"
    }
   },
   "outputs": [
    {
     "name": "stdout",
     "output_type": "stream",
     "text": [
      "  Channel_AmCsCo Energy_AmCsCo\n",
      "1            206      59.03767\n",
      "2           2280     661.80683\n",
      "3           4041    1173.60841\n",
      "4           4589    1332.87432\n",
      "5           8623    2505.28067\n",
      "\n",
      "   Channel_Th Energy_Th\n",
      "1         485  263.5911\n",
      "2        1504  382.5427\n",
      "3        1890  427.6019\n",
      "4        3218  582.6242\n",
      "5        3674  635.8547\n",
      "6        4581  741.7322\n",
      "7        4948  784.5734\n",
      "8        5420  839.6717\n",
      "9        6793  999.9471\n",
      "10       9525 1318.8635\n",
      "11      10025 1377.2303\n",
      "12      10202 1397.8922\n",
      "13      13240 1752.5291\n",
      "14      16452 2127.4776\n",
      "15      20099 2553.2053\n"
     ]
    },
    {
     "data": {
      "image/png": "[encoded data removed]",
      "text/plain": [
       "plot without title"
      ]
     },
     "metadata": {
      "image/png": {
       "height": 360,
       "width": 720
      }
     },
     "output_type": "display_data"
    },
    {
     "data": {
      "image/png": "[encoded data removed]",
      "text/plain": [
       "plot without title"
      ]
     },
     "metadata": {
      "image/png": {
       "height": 360,
       "width": 720
      }
     },
     "output_type": "display_data"
    }
   ],
   "source": [
    "# Apply calibration to the channels\n",
    "energies_AmCsCo <- channel_to_energy(calibration_data_AmCsCo$Channel_AmCsCo, calibration_model_AmCsCo, \"Channel_AmCsCo\")\n",
    "energies_Th <- channel_to_energy(calibration_data_Th$Channel_Th, calibration_model_Th, \"Channel_Th\")\n",
    "\n",
    "# Create a data frame with channels and corresponding energies\n",
    "calibrated_data_AmCsCo <- data.frame(Channel_AmCsCo = calibration_data_AmCsCo$Channel_AmCsCo,\n",
    "                              Energy_AmCsCo = energies_AmCsCo)\n",
    "calibrated_data_Th <- data.frame(Channel_Th = calibration_data_Th$Channel_Th,\n",
    "                              Energy_Th = energies_Th)\n",
    "\n",
    "# Print the calibrated data\n",
    "print(calibrated_data_AmCsCo)\n",
    "cat('\\n')\n",
    "print(calibrated_data_Th)\n",
    "\n",
    "# Plot the calibration results for AmCsCo\n",
    "ggplot(calibrated_data_AmCsCo, aes(x = Channel_AmCsCo, y = Energy_AmCsCo)) +\n",
    "  geom_line(col='purple', lwd=1.1) +\n",
    "  ggtitle(\"Channel to Energy Conversion AmCsCo\") +\n",
    "  xlab(\"Channel Number\") +\n",
    "  ylab(\"Energy (keV)\")\n",
    "\n",
    "# Plot the calibration results for Th\n",
    "ggplot(calibrated_data_Th, aes(x = Channel_Th, y = Energy_Th)) +\n",
    "  geom_line(col='purple', lwd=1.1) +\n",
    "  ggtitle(\"Channel to Energy Conversion Th\") +\n",
    "  xlab(\"Channel Number\") +\n",
    "  ylab(\"Energy (keV)\")\n",
    "\n"
   ]
  },
  {
   "cell_type": "markdown",
   "metadata": {},
   "source": [
    "This chart shows the trend of the calculated energy for each channel number within the specified range, highlighting how the calibration transformed the channel numbers into gamma energies in keV.\n",
    "\n",
    "**This suggests that there is a linear relationship between the detector channels and the gamma peak energies.**\n",
    "\n",
    "Interpretation of Straight Lines in the Graphs:\n",
    "\n",
    "Calibration Curve:\n",
    "The \"Calibration Curve\" chart shows the calibration data (channels vs energies) and overlays a straight line representing the linear regression model fitted to the data.  \n",
    "A straight line in this chart indicates that the calibration data can be well approximated by a linear model. This is often desirable as it simplifies the conversion of detector channels into gamma energies.\n",
    "\n",
    "Channel Energy Conversion:\n",
    "The \"Channel Energy Conversion\" chart shows the conversion of channels into energies for a range of channels.\n",
    "A straight line in this chart indicates that the linear calibration model has been used to predict the energies for each channel within the specified range"
   ]
  },
  {
   "cell_type": "markdown",
   "metadata": {},
   "source": [
    "## Step 3: Study Energy Resolution Using MCMC:\n",
    "Using MCMC methods (with either JAGS or Stan), study the behavior of energy resolution as a function of photon energy.\n",
    "Infer the parameters of the equations for FWHM and its components."
   ]
  },
  {
   "cell_type": "markdown",
   "metadata": {
    "vscode": {
     "languageId": "r"
    }
   },
   "source": [
    "To study the behavior of the energy resolution as a function of the photon energy and infer the parameters using a Bayesian approach (with either JAGS or Stan), we need to model the Full Width at Half Maximum (FWHM) in terms of the provided equations.\n",
    "\n",
    "##### Equations\n",
    "$$ FWHM= \\sqrt{(w_d^2+w_e^2)} $$\n",
    "$$ w_d = 2  \\sqrt{(2 \\cdot \\log(2)) \\cdot F \\cdot E_{\\gamma} \\cdot w}​ $$\n",
    " \n",
    "Here, $E_\\gamma$ is the photon energy, F is a parameter, and w is a parameter related to the detector.\n",
    "\n",
    "##### Steps\n",
    "* Model Definition: Define the Bayesian model using the equations.\n",
    "* Data Preparation: Prepare the data for MCMC analysis.\n",
    "* MCMC Simulation: Use Stan to run the MCMC simulation and infer the parameters.\n",
    "* Result Analysis: Analyze the results to understand the behavior of energy resolution.\n",
    "\n"
   ]
  },
  {
   "cell_type": "markdown",
   "metadata": {},
   "source": [
    "### 3.a 1. Model Definition  \n",
    "We need to translate the given equations into a form that can be used with MCMC methods. The parameters to be inferred are $w_e$,F, and w.  "
   ]
  },
  {
   "cell_type": "code",
   "execution_count": 501,
   "metadata": {
    "vscode": {
     "languageId": "r"
    }
   },
   "outputs": [],
   "source": [
    "# Define JAGS model code\n",
    "jags_model_code <- \"\n",
    "model {\n",
    "  for (i in 1:N) {\n",
    "    w_d[i] <- 2 * sqrt(2 * log(2) * F * E_gamma[i] * w)\n",
    "    FWHM[i] ~ dnorm(sqrt(w_d[i]^2 + w_e^2), prec)\n",
    "  }\n",
    "  \n",
    "  F ~ dunif(0.02, 0.8)   # Prior uniforme per F\n",
    "  w ~ dunif(2.3, 3.8)  # Prior uniforme per w\n",
    "  w_e ~ dunif(1, 10)  # Prior uniforme per w_e\n",
    "}\n",
    "\"\n"
   ]
  },
  {
   "cell_type": "markdown",
   "metadata": {},
   "source": [
    "### 2. Data Preparation    \n",
    "We will use the energies and FWHM values from your data. Here are the values you provided earlier:"
   ]
  },
  {
   "cell_type": "code",
   "execution_count": 502,
   "metadata": {
    "vscode": {
     "languageId": "r"
    }
   },
   "outputs": [],
   "source": [
    "# Prepare data for JAGS\n",
    "jags_data_AmCsCo <- list(\n",
    "  N = length(energies_AmCsCo),\n",
    "  E_gamma = energies_AmCsCo,\n",
    "  FWHM = fwhm_values_AmCsCo,\n",
    "  prec = 0.1  # Precisione per la distribuzione normale\n",
    ")\n",
    "\n",
    "jags_data_Th <- list(\n",
    "  N = length(energies_Th),\n",
    "  E_gamma = energies_Th,\n",
    "  FWHM = fwhm_values_Th,\n",
    "  prec = 0.1  # Precisione per la distribuzione normale\n",
    ")"
   ]
  },
  {
   "cell_type": "markdown",
   "metadata": {},
   "source": [
    "### 3. MCMC Simulation  \n",
    "Compile the Stan model and run the MCMC simulation:"
   ]
  },
  {
   "cell_type": "code",
   "execution_count": 503,
   "metadata": {
    "vscode": {
     "languageId": "r"
    }
   },
   "outputs": [
    {
     "name": "stdout",
     "output_type": "stream",
     "text": [
      "Compiling model graph\n",
      "   Resolving undeclared variables\n",
      "   Allocating nodes\n",
      "Graph information:\n",
      "   Observed stochastic nodes: 5\n",
      "   Unobserved stochastic nodes: 3\n",
      "   Total graph size: 54\n",
      "\n",
      "Initializing model\n",
      "\n",
      "Compiling model graph\n",
      "   Resolving undeclared variables\n",
      "   Allocating nodes\n",
      "Graph information:\n",
      "   Observed stochastic nodes: 15\n",
      "   Unobserved stochastic nodes: 3\n",
      "   Total graph size: 134\n",
      "\n",
      "Initializing model\n",
      "\n"
     ]
    }
   ],
   "source": [
    "# Compile and run the JAGS model\n",
    "jags_model_AmCsCo <- jags.model(textConnection(jags_model_code), data = jags_data_AmCsCo, n.chains = 4)\n",
    "update(jags_model_AmCsCo, 20000)  # Burn-in di 20k iterazioni\n",
    "jags_samples_AmCsCo <- coda.samples(jags_model_AmCsCo, variable.names = c(\"F\", \"w\", \"w_e\"), n.iter = 3000,, thin=2)\n",
    "\n",
    "jags_model_Th <- jags.model(textConnection(jags_model_code), data = jags_data_Th, n.chains = 4)\n",
    "update(jags_model_Th, 30000)  # Burn-in di 20k iterazioni\n",
    "jags_samples_Th <- coda.samples(jags_model_Th, variable.names = c(\"F\", \"w\", \"w_e\"), n.iter = 10000, thin=4)\n"
   ]
  },
  {
   "cell_type": "code",
   "execution_count": 504,
   "metadata": {
    "vscode": {
     "languageId": "r"
    }
   },
   "outputs": [
    {
     "data": {
      "text/plain": [
       "\n",
       "Iterations = 21002:24000\n",
       "Thinning interval = 2 \n",
       "Number of chains = 4 \n",
       "Sample size per chain = 1500 \n",
       "\n",
       "1. Empirical mean and standard deviation for each variable,\n",
       "   plus standard error of the mean:\n",
       "\n",
       "       Mean       SD  Naive SE Time-series SE\n",
       "F   0.02303 0.002468 3.186e-05      0.0000462\n",
       "w   2.64846 0.283580 3.661e-03      0.0053452\n",
       "w_e 8.51437 1.408373 1.818e-02      0.0283369\n",
       "\n",
       "2. Quantiles for each variable:\n",
       "\n",
       "       2.5%     25%     50%     75%   97.5%\n",
       "F   0.02009 0.02112 0.02243 0.02441 0.02915\n",
       "w   2.31208 2.42639 2.58047 2.80065 3.38014\n",
       "w_e 4.65614 7.95068 8.91535 9.53095 9.95668\n"
      ]
     },
     "metadata": {},
     "output_type": "display_data"
    },
    {
     "data": {
      "image/png": "[encoded data removed]",
      "text/plain": [
       "Plot with title \"Density of w_e\""
      ]
     },
     "metadata": {
      "image/png": {
       "height": 360,
       "width": 720
      }
     },
     "output_type": "display_data"
    }
   ],
   "source": [
    "plot(jags_samples_AmCsCo)\n",
    "summary(jags_samples_AmCsCo)"
   ]
  },
  {
   "cell_type": "code",
   "execution_count": 505,
   "metadata": {
    "vscode": {
     "languageId": "r"
    }
   },
   "outputs": [
    {
     "data": {
      "text/plain": [
       "\n",
       "Iterations = 31004:41000\n",
       "Thinning interval = 4 \n",
       "Number of chains = 4 \n",
       "Sample size per chain = 2500 \n",
       "\n",
       "1. Empirical mean and standard deviation for each variable,\n",
       "   plus standard error of the mean:\n",
       "\n",
       "       Mean       SD  Naive SE Time-series SE\n",
       "F   0.05761 0.008937 8.937e-05      0.0002341\n",
       "w   2.99357 0.426169 4.262e-03      0.0116365\n",
       "w_e 8.33242 1.717301 1.717e-02      0.0216665\n",
       "\n",
       "2. Quantiles for each variable:\n",
       "\n",
       "       2.5%     25%     50%     75%   97.5%\n",
       "F   0.04333 0.05031 0.05666 0.06429 0.07531\n",
       "w   2.32860 2.61839 2.96946 3.34509 3.74970\n",
       "w_e 3.12720 7.73348 8.90183 9.55478 9.95982\n"
      ]
     },
     "metadata": {},
     "output_type": "display_data"
    },
    {
     "data": {
      "image/png": "[encoded data removed]",
      "text/plain": [
       "Plot with title \"Density of w_e\""
      ]
     },
     "metadata": {
      "image/png": {
       "height": 360,
       "width": 720
      }
     },
     "output_type": "display_data"
    }
   ],
   "source": [
    "plot(jags_samples_Th)\n",
    "summary(jags_samples_Th)"
   ]
  },
  {
   "cell_type": "code",
   "execution_count": 506,
   "metadata": {
    "vscode": {
     "languageId": "r"
    }
   },
   "outputs": [
    {
     "data": {
      "text/plain": [
       "Potential scale reduction factors:\n",
       "\n",
       "    Point est. Upper C.I.\n",
       "F            1          1\n",
       "w            1          1\n",
       "w_e          1          1\n",
       "\n",
       "Multivariate psrf\n",
       "\n",
       "1"
      ]
     },
     "metadata": {},
     "output_type": "display_data"
    },
    {
     "data": {
      "text/plain": [
       "Potential scale reduction factors:\n",
       "\n",
       "    Point est. Upper C.I.\n",
       "F            1       1.01\n",
       "w            1       1.01\n",
       "w_e          1       1.00\n",
       "\n",
       "Multivariate psrf\n",
       "\n",
       "1"
      ]
     },
     "metadata": {},
     "output_type": "display_data"
    }
   ],
   "source": [
    "# Check the convergence of the chain\n",
    "gelman.diag(jags_samples_AmCsCo)\n",
    "gelman.diag(jags_samples_Th)\n"
   ]
  },
  {
   "cell_type": "markdown",
   "metadata": {},
   "source": [
    "The Gelman-Rubin diagnostics (Potential Scale Reduction Factor, PSRF) indicate that the chains have likely converged. Specifically:\n",
    "\n",
    "A Point Estimate of 1 for all parameters indicates good convergence.  \n",
    "An Upper C.I. (Upper Confidence Interval) close to 1 (1.01) is another sign of good convergence."
   ]
  },
  {
   "cell_type": "code",
   "execution_count": 507,
   "metadata": {
    "vscode": {
     "languageId": "r"
    }
   },
   "outputs": [
    {
     "data": {
      "text/html": [
       "<table class=\"dataframe\">\n",
       "<caption>A matrix: 5 × 3 of type dbl</caption>\n",
       "<thead>\n",
       "\t<tr><th></th><th scope=col>F</th><th scope=col>w</th><th scope=col>w_e</th></tr>\n",
       "</thead>\n",
       "<tbody>\n",
       "\t<tr><th scope=row>Lag 0</th><td> 1.000000e+00</td><td> 1.0000000000</td><td> 1.000000000</td></tr>\n",
       "\t<tr><th scope=row>Lag 2</th><td> 3.116447e-01</td><td> 0.3102669038</td><td> 0.413241505</td></tr>\n",
       "\t<tr><th scope=row>Lag 10</th><td> 1.564934e-03</td><td> 0.0108651168</td><td> 0.005418916</td></tr>\n",
       "\t<tr><th scope=row>Lag 20</th><td>-2.271968e-05</td><td>-0.0031031212</td><td>-0.017947697</td></tr>\n",
       "\t<tr><th scope=row>Lag 100</th><td>-1.689965e-02</td><td> 0.0008648669</td><td> 0.004219362</td></tr>\n",
       "</tbody>\n",
       "</table>\n"
      ],
      "text/latex": [
       "A matrix: 5 × 3 of type dbl\n",
       "\\begin{tabular}{r|lll}\n",
       "  & F & w & w\\_e\\\\\n",
       "\\hline\n",
       "\tLag 0 &  1.000000e+00 &  1.0000000000 &  1.000000000\\\\\n",
       "\tLag 2 &  3.116447e-01 &  0.3102669038 &  0.413241505\\\\\n",
       "\tLag 10 &  1.564934e-03 &  0.0108651168 &  0.005418916\\\\\n",
       "\tLag 20 & -2.271968e-05 & -0.0031031212 & -0.017947697\\\\\n",
       "\tLag 100 & -1.689965e-02 &  0.0008648669 &  0.004219362\\\\\n",
       "\\end{tabular}\n"
      ],
      "text/markdown": [
       "\n",
       "A matrix: 5 × 3 of type dbl\n",
       "\n",
       "| <!--/--> | F | w | w_e |\n",
       "|---|---|---|---|\n",
       "| Lag 0 |  1.000000e+00 |  1.0000000000 |  1.000000000 |\n",
       "| Lag 2 |  3.116447e-01 |  0.3102669038 |  0.413241505 |\n",
       "| Lag 10 |  1.564934e-03 |  0.0108651168 |  0.005418916 |\n",
       "| Lag 20 | -2.271968e-05 | -0.0031031212 | -0.017947697 |\n",
       "| Lag 100 | -1.689965e-02 |  0.0008648669 |  0.004219362 |\n",
       "\n"
      ],
      "text/plain": [
       "        F             w             w_e         \n",
       "Lag 0    1.000000e+00  1.0000000000  1.000000000\n",
       "Lag 2    3.116447e-01  0.3102669038  0.413241505\n",
       "Lag 10   1.564934e-03  0.0108651168  0.005418916\n",
       "Lag 20  -2.271968e-05 -0.0031031212 -0.017947697\n",
       "Lag 100 -1.689965e-02  0.0008648669  0.004219362"
      ]
     },
     "metadata": {},
     "output_type": "display_data"
    },
    {
     "data": {
      "text/html": [
       "<table class=\"dataframe\">\n",
       "<caption>A matrix: 5 × 3 of type dbl</caption>\n",
       "<thead>\n",
       "\t<tr><th></th><th scope=col>F</th><th scope=col>w</th><th scope=col>w_e</th></tr>\n",
       "</thead>\n",
       "<tbody>\n",
       "\t<tr><th scope=row>Lag 0</th><td>1.000000e+00</td><td>1.000000000</td><td>1.000000000</td></tr>\n",
       "\t<tr><th scope=row>Lag 4</th><td>7.215679e-01</td><td>0.738070434</td><td>0.228208538</td></tr>\n",
       "\t<tr><th scope=row>Lag 20</th><td>2.514363e-01</td><td>0.271189883</td><td>0.010770921</td></tr>\n",
       "\t<tr><th scope=row>Lag 40</th><td>7.505611e-02</td><td>0.088577308</td><td>0.007540845</td></tr>\n",
       "\t<tr><th scope=row>Lag 200</th><td>5.915473e-05</td><td>0.003337605</td><td>0.006473467</td></tr>\n",
       "</tbody>\n",
       "</table>\n"
      ],
      "text/latex": [
       "A matrix: 5 × 3 of type dbl\n",
       "\\begin{tabular}{r|lll}\n",
       "  & F & w & w\\_e\\\\\n",
       "\\hline\n",
       "\tLag 0 & 1.000000e+00 & 1.000000000 & 1.000000000\\\\\n",
       "\tLag 4 & 7.215679e-01 & 0.738070434 & 0.228208538\\\\\n",
       "\tLag 20 & 2.514363e-01 & 0.271189883 & 0.010770921\\\\\n",
       "\tLag 40 & 7.505611e-02 & 0.088577308 & 0.007540845\\\\\n",
       "\tLag 200 & 5.915473e-05 & 0.003337605 & 0.006473467\\\\\n",
       "\\end{tabular}\n"
      ],
      "text/markdown": [
       "\n",
       "A matrix: 5 × 3 of type dbl\n",
       "\n",
       "| <!--/--> | F | w | w_e |\n",
       "|---|---|---|---|\n",
       "| Lag 0 | 1.000000e+00 | 1.000000000 | 1.000000000 |\n",
       "| Lag 4 | 7.215679e-01 | 0.738070434 | 0.228208538 |\n",
       "| Lag 20 | 2.514363e-01 | 0.271189883 | 0.010770921 |\n",
       "| Lag 40 | 7.505611e-02 | 0.088577308 | 0.007540845 |\n",
       "| Lag 200 | 5.915473e-05 | 0.003337605 | 0.006473467 |\n",
       "\n"
      ],
      "text/plain": [
       "        F            w           w_e        \n",
       "Lag 0   1.000000e+00 1.000000000 1.000000000\n",
       "Lag 4   7.215679e-01 0.738070434 0.228208538\n",
       "Lag 20  2.514363e-01 0.271189883 0.010770921\n",
       "Lag 40  7.505611e-02 0.088577308 0.007540845\n",
       "Lag 200 5.915473e-05 0.003337605 0.006473467"
      ]
     },
     "metadata": {},
     "output_type": "display_data"
    }
   ],
   "source": [
    "# Check the autocorrelation\n",
    "autocorr.diag(jags_samples_AmCsCo)\n",
    "autocorr.diag(jags_samples_Th)"
   ]
  },
  {
   "cell_type": "markdown",
   "metadata": {},
   "source": [
    "**Lag 0**: Autocorrelation is always 1 at lag 0, representing the correlation of the sample with itself.  \n",
    "**Low Lags (Lag 2, 4, 10)**: These values show the correlation between samples that are close to each other. For `jags_samples_AmCsCo`, autocorrelation at lag 2 is around 0.31 for `F` and 0.41 for `w_e`, indicating moderate correlation. For `jags_samples_Th`, the autocorrelation at lag 4 is higher, especially for `F` (0.72) and `w` (0.74), indicating strong correlation.  \n",
    "**Medium to High Lags (Lag 20, 40, 100, 200)**: As the lag increases, the autocorrelation decreases, approaching zero, which is desirable. This indicates that the samples become less correlated and more independent as the lag increases."
   ]
  },
  {
   "cell_type": "markdown",
   "metadata": {},
   "source": [
    "### 4. Result Analysis  \n",
    "Extract the results and analyze the parameters:"
   ]
  },
  {
   "cell_type": "code",
   "execution_count": 508,
   "metadata": {
    "vscode": {
     "languageId": "r"
    }
   },
   "outputs": [
    {
     "name": "stdout",
     "output_type": "stream",
     "text": [
      "Estimated parameters (JAGS):\n",
      "F: 0.02303039 \n",
      "w: 2.648463 \n",
      "w_e: 8.514365 \n"
     ]
    },
    {
     "data": {
      "image/png": "[encoded data removed]",
      "text/plain": [
       "Plot with title \"Energy Resolution (JAGS)\""
      ]
     },
     "metadata": {
      "image/png": {
       "height": 360,
       "width": 720
      }
     },
     "output_type": "display_data"
    }
   ],
   "source": [
    "# Extract results from JAGS\n",
    "results_jags <- as.matrix(jags_samples_AmCsCo)\n",
    "\n",
    "# Get posterior estimates for parameters\n",
    "F_est_jags <- mean(results_jags[, \"F\"])\n",
    "w_est_jags <- mean(results_jags[, \"w\"])\n",
    "w_e_est_jags <- mean(results_jags[, \"w_e\"])\n",
    "\n",
    "# Print estimated parameters\n",
    "cat(\"Estimated parameters (JAGS):\\n\")\n",
    "cat(\"F:\", F_est_jags, \"\\n\")\n",
    "cat(\"w:\", w_est_jags, \"\\n\")\n",
    "cat(\"w_e:\", w_e_est_jags, \"\\n\")\n",
    "\n",
    "# Plot the energy resolution function\n",
    "energy_range_jags <- seq(min(energies_AmCsCo), max(energies_AmCsCo), length.out = 100)\n",
    "w_d_jags <- 2 * sqrt(2 * log(2) * F_est_jags * energy_range_jags * w_est_jags)\n",
    "predicted_fwhm_jags <- sqrt(w_d_jags^2 + w_e_est_jags^2)\n",
    "plot(energies_AmCsCo, fwhm_values_AmCsCo, pch = 19, col = \"blue\", xlab = \"Energy (keV)\", ylab = \"FWHM\", main = \"Energy Resolution (JAGS)\")\n",
    "lines(energy_range_jags, predicted_fwhm_jags, col = \"red\", lwd = 2)"
   ]
  },
  {
   "cell_type": "code",
   "execution_count": 509,
   "metadata": {
    "vscode": {
     "languageId": "r"
    }
   },
   "outputs": [
    {
     "name": "stdout",
     "output_type": "stream",
     "text": [
      "Estimated parameters (JAGS):\n",
      "F: 0.05760866 \n",
      "w: 2.99357 \n",
      "w_e: 8.332422 \n"
     ]
    },
    {
     "data": {
      "image/png": "[encoded data removed]",
      "text/plain": [
       "Plot with title \"Energy Resolution (JAGS)\""
      ]
     },
     "metadata": {
      "image/png": {
       "height": 360,
       "width": 720
      }
     },
     "output_type": "display_data"
    }
   ],
   "source": [
    "# Extract results from JAGS\n",
    "results_jags <- as.matrix(jags_samples_Th)\n",
    "\n",
    "# Get posterior estimates for parameters\n",
    "F_est_jags <- mean(results_jags[, \"F\"])\n",
    "w_est_jags <- mean(results_jags[, \"w\"])\n",
    "w_e_est_jags <- mean(results_jags[, \"w_e\"])\n",
    "\n",
    "# Print estimated parameters\n",
    "cat(\"Estimated parameters (JAGS):\\n\")\n",
    "cat(\"F:\", F_est_jags, \"\\n\")\n",
    "cat(\"w:\", w_est_jags, \"\\n\")\n",
    "cat(\"w_e:\", w_e_est_jags, \"\\n\")\n",
    "\n",
    "# Plot the energy resolution function\n",
    "energy_range_jags <- seq(min(energies_Th), max(energies_Th), length.out = 100)\n",
    "w_d_jags <- 2 * sqrt(2 * log(2) * F_est_jags * energy_range_jags * w_est_jags)\n",
    "predicted_fwhm_jags <- sqrt(w_d_jags^2 + w_e_est_jags^2)\n",
    "plot(energies_Th, fwhm_values_Th, pch = 19, col = \"blue\", xlab = \"Energy (keV)\", ylab = \"FWHM\", main = \"Energy Resolution (JAGS)\")\n",
    "lines(energy_range_jags, predicted_fwhm_jags, col = \"red\", lwd = 2)"
   ]
  },
  {
   "cell_type": "markdown",
   "metadata": {},
   "source": [
    "## Step 4: Energy resolution for NaI detector"
   ]
  },
  {
   "cell_type": "code",
   "execution_count": 510,
   "metadata": {
    "vscode": {
     "languageId": "r"
    }
   },
   "outputs": [
    {
     "name": "stdout",
     "output_type": "stream",
     "text": [
      "$`647`\n",
      "    Channel Count log_Count\n",
      "214     427   100  4.615121\n",
      "215     429   118  4.779123\n",
      "216     431    98  4.595120\n",
      "217     433   125  4.836282\n",
      "218     435   102  4.634729\n",
      "219     437   114  4.744932\n",
      "220     439   115  4.753590\n",
      "221     441   155  5.049856\n",
      "222     443   131  4.882802\n",
      "223     445   159  5.075174\n",
      "224     447   178  5.187386\n",
      "225     449   168  5.129899\n",
      "226     451   150  5.017280\n",
      "227     453   160  5.081404\n",
      "228     455   192  5.262690\n",
      "229     457   190  5.252273\n",
      "230     459   232  5.451038\n",
      "231     461   219  5.393628\n",
      "232     463   225  5.420535\n",
      "233     465   193  5.267858\n",
      "234     467   236  5.468060\n",
      "235     469   222  5.407172\n",
      "236     471   261  5.568345\n",
      "237     473   285  5.655992\n",
      "238     475   277  5.627621\n",
      "239     477   313  5.749393\n",
      "240     479   298  5.700444\n",
      "241     481   281  5.641907\n",
      "242     483   352  5.866468\n",
      "243     485   340  5.831882\n",
      "244     487   381  5.945421\n",
      "245     489   350  5.860786\n",
      "246     491   365  5.902633\n",
      "247     493   387  5.961005\n",
      "248     495   410  6.018593\n",
      "249     497   413  6.025866\n",
      "250     499   410  6.018593\n",
      "251     501   494  6.204558\n",
      "252     503   443  6.095825\n",
      "253     505   492  6.200509\n",
      "254     507   541  6.295266\n",
      "255     509   531  6.276643\n",
      "256     511   521  6.257668\n",
      "257     513   560  6.329721\n",
      "258     515   575  6.356108\n",
      "259     517   624  6.437752\n",
      "260     519   593  6.386879\n",
      "261     521   619  6.429719\n",
      "262     523   641  6.464588\n",
      "263     525   696  6.546785\n",
      "264     527   696  6.546785\n",
      "265     529   746  6.616065\n",
      "266     531   779  6.659294\n",
      "267     533   835  6.728629\n",
      "268     535   808  6.695799\n",
      "269     537   817  6.706862\n",
      "270     539   827  6.719013\n",
      "271     541   889  6.791221\n",
      "272     543   889  6.791221\n",
      "273     545   934  6.840547\n",
      "274     547   940  6.846943\n",
      "275     549   987  6.895683\n",
      "276     551  1031  6.939254\n",
      "277     553  1018  6.926577\n",
      "278     555  1091  6.995766\n",
      "279     557  1120  7.021976\n",
      "280     559  1096  7.000334\n",
      "281     561  1097  7.001246\n",
      "282     563  1123  7.024649\n",
      "283     565  1185  7.078342\n",
      "284     567  1246  7.128496\n",
      "285     569  1237  7.121252\n",
      "286     571  1264  7.142827\n",
      "287     573  1302  7.172425\n",
      "288     575  1346  7.205635\n",
      "289     577  1360  7.215975\n",
      "290     579  1394  7.240650\n",
      "291     581  1378  7.229114\n",
      "292     583  1371  7.224025\n",
      "293     585  1504  7.316548\n",
      "294     587  1571  7.360104\n",
      "295     589  1479  7.299797\n",
      "296     591  1584  7.368340\n",
      "297     593  1509  7.319865\n",
      "298     595  1546  7.344073\n",
      "299     597  1664  7.417580\n",
      "300     599  1603  7.380256\n",
      "301     601  1607  7.382746\n",
      "302     603  1656  7.412764\n",
      "303     605  1617  7.388946\n",
      "304     607  1728  7.455298\n",
      "305     609  1657  7.413367\n",
      "306     611  1745  7.465083\n",
      "307     613  1761  7.474205\n",
      "308     615  1736  7.459915\n",
      "309     617  1787  7.488853\n",
      "310     619  1865  7.531552\n",
      "311     621  1797  7.494430\n",
      "312     623  1820  7.507141\n",
      "313     625  1753  7.469654\n",
      "314     627  1837  7.516433\n",
      "315     629  1818  7.506042\n",
      "316     631  1828  7.511525\n",
      "317     633  1897  7.548556\n",
      "318     635  1803  7.497762\n",
      "319     637  1774  7.481556\n",
      "320     639  1813  7.503290\n",
      "321     641  1888  7.543803\n",
      "322     643  1801  7.496652\n",
      "323     645  1747  7.466228\n",
      "324     647  1883  7.541152\n",
      "325     649  1816  7.504942\n",
      "326     651  1865  7.531552\n",
      "327     653  1750  7.467942\n",
      "328     655  1658  7.413970\n",
      "329     657  1802  7.497207\n",
      "330     659  1808  7.500529\n",
      "331     661  1798  7.494986\n",
      "332     663  1814  7.503841\n",
      "333     665  1738  7.461066\n",
      "334     667  1775  7.482119\n",
      "335     669  1799  7.495542\n",
      "336     671  1731  7.457032\n",
      "337     673  1751  7.468513\n",
      "338     675  1726  7.454141\n",
      "339     677  1677  7.425358\n",
      "340     679  1630  7.396949\n",
      "341     681  1681  7.427739\n",
      "342     683  1625  7.393878\n",
      "343     685  1619  7.390181\n",
      "344     687  1564  7.355641\n",
      "345     689  1560  7.353082\n",
      "346     691  1543  7.342132\n",
      "347     693  1528  7.332369\n",
      "348     695  1568  7.358194\n",
      "349     697  1517  7.325149\n",
      "350     699  1570  7.359468\n",
      "351     701  1543  7.342132\n",
      "352     703  1533  7.335634\n",
      "353     705  1471  7.294377\n",
      "354     707  1517  7.325149\n",
      "355     709  1456  7.284135\n",
      "356     711  1405  7.248504\n",
      "357     713  1446  7.277248\n",
      "358     715  1449  7.279319\n",
      "359     717  1405  7.248504\n",
      "360     719  1426  7.263330\n",
      "361     721  1427  7.264030\n",
      "362     723  1396  7.242082\n",
      "363     725  1399  7.244228\n",
      "364     727  1387  7.235619\n",
      "365     729  1316  7.183112\n",
      "366     731  1349  7.207860\n",
      "367     733  1362  7.217443\n",
      "368     735  1303  7.173192\n",
      "369     737  1300  7.170888\n",
      "370     739  1343  7.203406\n",
      "371     741  1227  7.113142\n",
      "372     743  1281  7.156177\n",
      "373     745  1290  7.163172\n",
      "374     747  1350  7.208600\n",
      "375     749  1244  7.126891\n",
      "376     751  1232  7.117206\n",
      "377     753  1280  7.155396\n",
      "378     755  1162  7.058758\n",
      "379     757  1141  7.040536\n",
      "380     759  1232  7.117206\n",
      "381     761  1173  7.068172\n",
      "382     763  1258  7.138073\n",
      "383     765  1188  7.080868\n",
      "384     767  1198  7.089243\n",
      "385     769  1146  7.044905\n",
      "386     771  1162  7.058758\n",
      "387     773  1160  7.057037\n",
      "388     775  1123  7.024649\n",
      "389     777  1154  7.051856\n",
      "390     779  1097  7.001246\n",
      "391     781  1082  6.987490\n",
      "392     783  1186  7.079184\n",
      "393     785  1128  7.029088\n",
      "394     787  1122  7.023759\n",
      "395     789  1104  7.007601\n",
      "396     791  1073  6.979145\n",
      "397     793  1062  6.968850\n",
      "398     795  1107  7.010312\n",
      "399     797  1105  7.008505\n",
      "400     799  1064  6.970730\n",
      "401     801  1067  6.973543\n",
      "402     803  1042  6.949856\n",
      "403     805  1061  6.967909\n",
      "404     807  1013  6.921658\n",
      "405     809  1083  6.988413\n",
      "406     811   996  6.904751\n",
      "407     813  1046  6.953684\n",
      "408     815   989  6.897705\n",
      "409     817  1023  6.931472\n",
      "410     819  1003  6.911747\n",
      "411     821   973  6.881411\n",
      "412     823   984  6.892642\n",
      "413     825   979  6.887553\n",
      "414     827  1018  6.926577\n",
      "415     829   987  6.895683\n",
      "416     831  1002  6.910751\n",
      "417     833   977  6.885510\n",
      "418     835   967  6.875232\n",
      "419     837   954  6.861711\n",
      "420     839   980  6.888572\n",
      "421     841   961  6.869014\n",
      "422     843   981  6.889591\n",
      "423     845   943  6.850126\n",
      "424     847   938  6.844815\n",
      "425     849   924  6.829794\n",
      "426     851   904  6.807935\n",
      "427     853   882  6.783325\n",
      "428     855   913  6.817831\n",
      "429     857   893  6.795706\n",
      "430     859   921  6.826545\n",
      "431     861   900  6.803505\n",
      "432     863   906  6.810142\n",
      "433     865   889  6.791221\n",
      "434     867   903  6.806829\n",
      "\n",
      "$`3058`\n",
      "     Channel Count log_Count\n",
      "1419    2837   398  5.988961\n",
      "1420    2839   408  6.013715\n",
      "1421    2841   392  5.973810\n",
      "1422    2843   400  5.993961\n",
      "1423    2845   343  5.840642\n",
      "1424    2847   388  5.963579\n",
      "1425    2849   392  5.973810\n",
      "1426    2851   393  5.976351\n",
      "1427    2853   427  6.059123\n",
      "1428    2855   357  5.880533\n",
      "1429    2857   404  6.003887\n",
      "1430    2859   374  5.926926\n",
      "1431    2861   363  5.897154\n",
      "1432    2863   422  6.047372\n",
      "1433    2865   427  6.059123\n",
      "1434    2867   377  5.934894\n",
      "1435    2869   393  5.976351\n",
      "1436    2871   413  6.025866\n",
      "1437    2873   433  6.073045\n",
      "1438    2875   363  5.897154\n",
      "1439    2877   467  6.148468\n",
      "1440    2879   407  6.011267\n",
      "1441    2881   475  6.165418\n",
      "1442    2883   392  5.973810\n",
      "1443    2885   422  6.047372\n",
      "1444    2887   488  6.192362\n",
      "1445    2889   484  6.184149\n",
      "1446    2891   430  6.066108\n",
      "1447    2893   460  6.133398\n",
      "1448    2895   478  6.171701\n",
      "1449    2897   534  6.282267\n",
      "1450    2899   505  6.226537\n",
      "1451    2901   485  6.186209\n",
      "1452    2903   531  6.276643\n",
      "1453    2905   559  6.327937\n",
      "1454    2907   544  6.300786\n",
      "1455    2909   580  6.364751\n",
      "1456    2911   570  6.347389\n",
      "1457    2913   574  6.354370\n",
      "1458    2915   634  6.453625\n",
      "1459    2917   637  6.458338\n",
      "1460    2919   691  6.539586\n",
      "1461    2921   704  6.558198\n",
      "1462    2923   691  6.539586\n",
      "1463    2925   734  6.599870\n",
      "1464    2927   731  6.595781\n",
      "1465    2929   766  6.642487\n",
      "1466    2931   780  6.660575\n",
      "1467    2933   803  6.689599\n",
      "1468    2935   847  6.742881\n",
      "1469    2937   828  6.720220\n",
      "1470    2939   909  6.813445\n",
      "1471    2941   933  6.839476\n",
      "1472    2943   980  6.888572\n",
      "1473    2945   924  6.829794\n",
      "1474    2947   978  6.886532\n",
      "1475    2949   994  6.902743\n",
      "1476    2951  1097  7.001246\n",
      "1477    2953  1096  7.000334\n",
      "1478    2955  1118  7.020191\n",
      "1479    2957  1173  7.068172\n",
      "1480    2959  1194  7.085901\n",
      "1481    2961  1216  7.104144\n",
      "1482    2963  1238  7.122060\n",
      "1483    2965  1203  7.093405\n",
      "1484    2967  1267  7.145196\n",
      "1485    2969  1320  7.186144\n",
      "1486    2971  1483  7.302496\n",
      "1487    2973  1489  7.306531\n",
      "1488    2975  1494  7.309881\n",
      "1489    2977  1577  7.363914\n",
      "1490    2979  1527  7.331715\n",
      "1491    2981  1572  7.360740\n",
      "1492    2983  1622  7.392032\n",
      "1493    2985  1737  7.460490\n",
      "1494    2987  1674  7.423568\n",
      "1495    2989  1747  7.466228\n",
      "1496    2991  1798  7.494986\n",
      "1497    2993  1782  7.486053\n",
      "1498    2995  1790  7.490529\n",
      "1499    2997  1873  7.535830\n",
      "1500    2999  1914  7.557473\n",
      "1501    3001  1917  7.559038\n",
      "1502    3003  1966  7.584265\n",
      "1503    3005  1979  7.590852\n",
      "1504    3007  1958  7.580189\n",
      "1505    3009  2063  7.632401\n",
      "1506    3011  2171  7.683404\n",
      "1507    3013  2134  7.666222\n",
      "1508    3015  2098  7.649216\n",
      "1509    3017  2211  7.701652\n",
      "1510    3019  2234  7.711997\n",
      "1511    3021  2260  7.723562\n",
      "1512    3023  2238  7.713785\n",
      "1513    3025  2182  7.688455\n",
      "1514    3027  2260  7.723562\n",
      "1515    3029  2296  7.739359\n",
      "1516    3031  2315  7.747597\n",
      "1517    3033  2255  7.721349\n",
      "1518    3035  2396  7.781973\n",
      "1519    3037  2325  7.751905\n",
      "1520    3039  2435  7.798113\n",
      "1521    3041  2400  7.783641\n",
      "1522    3043  2361  7.767264\n",
      "1523    3045  2367  7.769801\n",
      "1524    3047  2374  7.772753\n",
      "1525    3049  2406  7.786136\n",
      "1526    3051  2366  7.769379\n",
      "1527    3053  2468  7.811568\n",
      "1528    3055  2359  7.766417\n",
      "1529    3057  2374  7.772753\n",
      "1530    3059  2395  7.781556\n",
      "1531    3061  2367  7.769801\n",
      "1532    3063  2304  7.742836\n",
      "1533    3065  2421  7.792349\n",
      "1534    3067  2376  7.773594\n",
      "1535    3069  2336  7.756623\n",
      "1536    3071  2222  7.706613\n",
      "1537    3073  2320  7.749753\n",
      "1538    3075  2271  7.728416\n",
      "1539    3077  2212  7.702104\n",
      "1540    3079  2234  7.711997\n",
      "1541    3081  2264  7.725330\n",
      "1542    3083  2187  7.690743\n",
      "1543    3085  2142  7.669962\n",
      "1544    3087  2082  7.641564\n",
      "1545    3089  2034  7.618251\n",
      "1546    3091  2047  7.624619\n",
      "1547    3093  1934  7.567863\n",
      "1548    3095  1988  7.595387\n",
      "1549    3097  1946  7.574045\n",
      "1550    3099  1884  7.541683\n",
      "1551    3101  1909  7.554859\n",
      "1552    3103  1934  7.567863\n",
      "1553    3105  1771  7.479864\n",
      "1554    3107  1769  7.478735\n",
      "1555    3109  1707  7.443078\n",
      "1556    3111  1676  7.424762\n",
      "1557    3113  1696  7.436617\n",
      "1558    3115  1627  7.395108\n",
      "1559    3117  1541  7.340836\n",
      "1560    3119  1585  7.368970\n",
      "1561    3121  1523  7.329094\n",
      "1562    3123  1527  7.331715\n",
      "1563    3125  1472  7.295056\n",
      "1564    3127  1377  7.228388\n",
      "1565    3129  1308  7.177019\n",
      "1566    3131  1340  7.201171\n",
      "1567    3133  1357  7.213768\n",
      "1568    3135  1306  7.175490\n",
      "1569    3137  1268  7.145984\n",
      "1570    3139  1176  7.070724\n",
      "1571    3141  1124  7.025538\n",
      "1572    3143  1109  7.012115\n",
      "1573    3145  1021  6.929517\n",
      "1574    3147  1056  6.963190\n",
      "1575    3149   972  6.880384\n",
      "1576    3151  1018  6.926577\n",
      "1577    3153   936  6.842683\n",
      "1578    3155   908  6.812345\n",
      "1579    3157   842  6.736967\n",
      "1580    3159   809  6.697034\n",
      "1581    3161   795  6.679599\n",
      "1582    3163   765  6.641182\n",
      "1583    3165   769  6.646391\n",
      "1584    3167   705  6.559615\n",
      "1585    3169   729  6.593045\n",
      "1586    3171   658  6.490724\n",
      "1587    3173   619  6.429719\n",
      "1588    3175   599  6.396930\n",
      "1589    3177   570  6.347389\n",
      "1590    3179   546  6.304449\n",
      "1591    3181   596  6.391917\n",
      "1592    3183   485  6.186209\n",
      "1593    3185   493  6.202536\n",
      "1594    3187   488  6.192362\n",
      "1595    3189   470  6.154858\n",
      "1596    3191   435  6.077642\n",
      "1597    3193   446  6.102559\n",
      "1598    3195   414  6.028279\n",
      "1599    3197   410  6.018593\n",
      "1600    3199   381  5.945421\n",
      "1601    3201   346  5.849325\n",
      "1602    3203   356  5.877736\n",
      "1603    3205   330  5.802118\n",
      "1604    3207   326  5.789960\n",
      "1605    3209   321  5.774552\n",
      "1606    3211   305  5.723585\n",
      "1607    3213   267  5.590987\n",
      "1608    3215   260  5.564520\n",
      "1609    3217   257  5.552960\n",
      "1610    3219   255  5.545177\n",
      "1611    3221   255  5.545177\n",
      "1612    3223   213  5.365976\n",
      "1613    3225   218  5.389072\n",
      "1614    3227   231  5.446737\n",
      "1615    3229   220  5.398163\n",
      "1616    3231   240  5.484797\n",
      "1617    3233   170  5.141664\n",
      "1618    3235   197  5.288267\n",
      "1619    3237   184  5.220356\n",
      "1620    3239   168  5.129899\n",
      "1621    3241   172  5.153292\n",
      "1622    3243   202  5.313206\n",
      "1623    3245   167  5.123964\n",
      "1624    3247   175  5.170484\n",
      "1625    3249   198  5.293305\n",
      "1626    3251   170  5.141664\n",
      "1627    3253   167  5.123964\n",
      "1628    3255   183  5.214936\n",
      "1629    3257   182  5.209486\n",
      "1630    3259   180  5.198497\n",
      "1631    3261   160  5.081404\n",
      "1632    3263   202  5.313206\n",
      "1633    3265   182  5.209486\n",
      "1634    3267   186  5.231109\n",
      "1635    3269   174  5.164786\n",
      "1636    3271   182  5.209486\n",
      "1637    3273   176  5.176150\n",
      "1638    3275   218  5.389072\n",
      "1639    3277   225  5.420535\n",
      "\n",
      "$`3458`\n",
      "     Channel Count log_Count\n",
      "1619    3237   184  5.220356\n",
      "1620    3239   168  5.129899\n",
      "1621    3241   172  5.153292\n",
      "1622    3243   202  5.313206\n",
      "1623    3245   167  5.123964\n",
      "1624    3247   175  5.170484\n",
      "1625    3249   198  5.293305\n",
      "1626    3251   170  5.141664\n",
      "1627    3253   167  5.123964\n",
      "1628    3255   183  5.214936\n",
      "1629    3257   182  5.209486\n",
      "1630    3259   180  5.198497\n",
      "1631    3261   160  5.081404\n",
      "1632    3263   202  5.313206\n",
      "1633    3265   182  5.209486\n",
      "1634    3267   186  5.231109\n",
      "1635    3269   174  5.164786\n",
      "1636    3271   182  5.209486\n",
      "1637    3273   176  5.176150\n",
      "1638    3275   218  5.389072\n",
      "1639    3277   225  5.420535\n",
      "1640    3279   222  5.407172\n",
      "1641    3281   208  5.342334\n",
      "1642    3283   258  5.556828\n",
      "1643    3285   242  5.493061\n",
      "1644    3287   264  5.579730\n",
      "1645    3289   288  5.666427\n",
      "1646    3291   280  5.638355\n",
      "1647    3293   308  5.733341\n",
      "1648    3295   298  5.700444\n",
      "1649    3297   261  5.568345\n",
      "1650    3299   319  5.768321\n",
      "1651    3301   320  5.771441\n",
      "1652    3303   318  5.765191\n",
      "1653    3305   356  5.877736\n",
      "1654    3307   369  5.913503\n",
      "1655    3309   401  5.996452\n",
      "1656    3311   387  5.961005\n",
      "1657    3313   445  6.100319\n",
      "1658    3315   426  6.056784\n",
      "1659    3317   437  6.082219\n",
      "1660    3319   463  6.139885\n",
      "1661    3321   474  6.163315\n",
      "1662    3323   489  6.194405\n",
      "1663    3325   533  6.280396\n",
      "1664    3327   558  6.326149\n",
      "1665    3329   569  6.345636\n",
      "1666    3331   627  6.442540\n",
      "1667    3333   619  6.429719\n",
      "1668    3335   645  6.470800\n",
      "1669    3337   629  6.445720\n",
      "1670    3339   715  6.573680\n",
      "1671    3341   668  6.505784\n",
      "1672    3343   756  6.629363\n",
      "1673    3345   773  6.651572\n",
      "1674    3347   806  6.693324\n",
      "1675    3349   810  6.698268\n",
      "1676    3351   846  6.741701\n",
      "1677    3353   879  6.779922\n",
      "1678    3355   918  6.823286\n",
      "1679    3357   949  6.856462\n",
      "1680    3359   963  6.871091\n",
      "1681    3361  1024  6.932448\n",
      "1682    3363  1039  6.946976\n",
      "1683    3365  1049  6.956545\n",
      "1684    3367  1021  6.929517\n",
      "1685    3369  1089  6.993933\n",
      "1686    3371  1152  7.050123\n",
      "1687    3373  1123  7.024649\n",
      "1688    3375  1195  7.086738\n",
      "1689    3377  1249  7.130899\n",
      "1690    3379  1271  7.148346\n",
      "1691    3381  1256  7.136483\n",
      "1692    3383  1237  7.121252\n",
      "1693    3385  1321  7.186901\n",
      "1694    3387  1418  7.257708\n",
      "1695    3389  1371  7.224025\n",
      "1696    3391  1468  7.292337\n",
      "1697    3393  1475  7.297091\n",
      "1698    3395  1440  7.273093\n",
      "1699    3397  1553  7.348588\n",
      "1700    3399  1600  7.378384\n",
      "1701    3401  1560  7.353082\n",
      "1702    3403  1551  7.347300\n",
      "1703    3405  1593  7.374002\n",
      "1704    3407  1691  7.433667\n",
      "1705    3409  1700  7.438972\n",
      "1706    3411  1647  7.407318\n",
      "1707    3413  1701  7.439559\n",
      "1708    3415  1720  7.450661\n",
      "1709    3417  1737  7.460490\n",
      "1710    3419  1781  7.485492\n",
      "1711    3421  1780  7.484930\n",
      "1712    3423  1846  7.521318\n",
      "1713    3425  1876  7.537430\n",
      "1714    3427  1959  7.580700\n",
      "1715    3429  1930  7.565793\n",
      "1716    3431  1883  7.541152\n",
      "1717    3433  1871  7.534763\n",
      "1718    3435  1971  7.586804\n",
      "1719    3437  1925  7.563201\n",
      "1720    3439  1945  7.573531\n",
      "1721    3441  1993  7.597898\n",
      "1722    3443  1937  7.569412\n",
      "1723    3445  1933  7.567346\n",
      "1724    3447  2017  7.609862\n",
      "1725    3449  2021  7.611842\n",
      "1726    3451  1983  7.592870\n",
      "1727    3453  1960  7.581210\n",
      "1728    3455  1948  7.575072\n",
      "1729    3457  1993  7.597898\n",
      "1730    3459  1983  7.592870\n",
      "1731    3461  1888  7.543803\n",
      "1732    3463  1932  7.566828\n",
      "1733    3465  1884  7.541683\n",
      "1734    3467  1878  7.538495\n",
      "1735    3469  1920  7.560601\n",
      "1736    3471  1898  7.549083\n",
      "1737    3473  1939  7.570443\n",
      "1738    3475  1886  7.542744\n",
      "1739    3477  1883  7.541152\n",
      "1740    3479  1883  7.541152\n",
      "1741    3481  1803  7.497762\n",
      "1742    3483  1851  7.524021\n",
      "1743    3485  1871  7.534763\n",
      "1744    3487  1758  7.472501\n",
      "1745    3489  1741  7.462789\n",
      "1746    3491  1716  7.448334\n",
      "1747    3493  1654  7.411556\n",
      "1748    3495  1726  7.454141\n",
      "1749    3497  1620  7.390799\n",
      "1750    3499  1609  7.383989\n",
      "1751    3501  1497  7.311886\n",
      "1752    3503  1617  7.388946\n",
      "1753    3505  1560  7.353082\n",
      "1754    3507  1472  7.295056\n",
      "1755    3509  1418  7.257708\n",
      "1756    3511  1399  7.244228\n",
      "1757    3513  1470  7.293698\n",
      "1758    3515  1377  7.228388\n",
      "1759    3517  1357  7.213768\n",
      "1760    3519  1394  7.240650\n",
      "1761    3521  1371  7.224025\n",
      "1762    3523  1251  7.132498\n",
      "1763    3525  1255  7.135687\n",
      "1764    3527  1238  7.122060\n",
      "1765    3529  1210  7.099202\n",
      "1766    3531  1148  7.046647\n",
      "1767    3533  1121  7.022868\n",
      "1768    3535  1170  7.065613\n",
      "1769    3537  1144  7.043160\n",
      "1770    3539  1017  6.925595\n",
      "1771    3541  1005  6.913737\n",
      "1772    3543   984  6.892642\n",
      "1773    3545  1031  6.939254\n",
      "1774    3547   961  6.869014\n",
      "1775    3549   914  6.818924\n",
      "1776    3551   930  6.836259\n",
      "1777    3553   873  6.773080\n",
      "1778    3555   836  6.729824\n",
      "1779    3557   766  6.642487\n",
      "1780    3559   774  6.652863\n",
      "1781    3561   735  6.601230\n",
      "1782    3563   649  6.476972\n",
      "1783    3565   697  6.548219\n",
      "1784    3567   655  6.486161\n",
      "1785    3569   636  6.456770\n",
      "1786    3571   628  6.444131\n",
      "1787    3573   628  6.444131\n",
      "1788    3575   533  6.280396\n",
      "1789    3577   551  6.313548\n",
      "1790    3579   558  6.326149\n",
      "1791    3581   525  6.265301\n",
      "1792    3583   499  6.214608\n",
      "1793    3585   457  6.126869\n",
      "1794    3587   485  6.186209\n",
      "1795    3589   404  6.003887\n",
      "1796    3591   427  6.059123\n",
      "1797    3593   409  6.016157\n",
      "1798    3595   391  5.971262\n",
      "1799    3597   354  5.872118\n",
      "1800    3599   367  5.908083\n",
      "1801    3601   351  5.863631\n",
      "1802    3603   341  5.834811\n",
      "1803    3605   318  5.765191\n",
      "1804    3607   293  5.683580\n",
      "1805    3609   298  5.700444\n",
      "1806    3611   277  5.627621\n",
      "1807    3613   272  5.609472\n",
      "1808    3615   244  5.501258\n",
      "1809    3617   253  5.537334\n",
      "1810    3619   212  5.361292\n",
      "1811    3621   225  5.420535\n",
      "1812    3623   197  5.288267\n",
      "1813    3625   209  5.347108\n",
      "1814    3627   192  5.262690\n",
      "1815    3629   176  5.176150\n",
      "1816    3631   173  5.159055\n",
      "1817    3633   155  5.049856\n",
      "1818    3635   155  5.049856\n",
      "1819    3637   125  4.836282\n",
      "1820    3639   147  4.997212\n",
      "1821    3641   135  4.912655\n",
      "1822    3643   135  4.912655\n",
      "1823    3645   116  4.762174\n",
      "1824    3647   121  4.804021\n",
      "1825    3649   109  4.700480\n",
      "1826    3651    93  4.543295\n",
      "1827    3653   115  4.753590\n",
      "1828    3655    79  4.382027\n",
      "1829    3657    97  4.584967\n",
      "1830    3659    97  4.584967\n",
      "1831    3661    90  4.510860\n",
      "1832    3663    73  4.304065\n",
      "1833    3665    86  4.465908\n",
      "1834    3667    79  4.382027\n",
      "1835    3669    71  4.276666\n",
      "1836    3671    61  4.127134\n",
      "1837    3673    78  4.369448\n",
      "1838    3675    69  4.248495\n",
      "1839    3677    70  4.262680\n",
      "\n"
     ]
    }
   ],
   "source": [
    "peak_data_list_co60  <- extract_peak_data(gr11_co60, position_co60, window_size = 110)\n",
    "peak_data_list_cs137  <- extract_peak_data(gr11_cs137, position_cs137, window_size = 100)\n",
    "peak_data_list_na22  <- extract_peak_data(gr11_na22, position_na22, window_size = 100)\n",
    "print(peak_data_list_co60)"
   ]
  },
  {
   "cell_type": "code",
   "execution_count": 511,
   "metadata": {
    "vscode": {
     "languageId": "r"
    }
   },
   "outputs": [
    {
     "name": "stdout",
     "output_type": "stream",
     "text": [
      " 600.sigma  609.sigma  647.sigma 1366.sigma 1779.sigma 3058.sigma 3302.sigma \n",
      "  616.3760   665.7165   691.3670   455.0826   408.0380   566.9261   433.2674 \n",
      "3458.sigma \n",
      "  498.4216 \n"
     ]
    }
   ],
   "source": [
    "# Fit the model for each peak\n",
    "fits_co60 <- lapply(peak_data_list_co60, fit_gaussian_nls)\n",
    "fits_cs137 <- lapply(peak_data_list_cs137, fit_gaussian_nls)\n",
    "fits_na22 <- lapply(peak_data_list_na22, fit_gaussian_nls)\n",
    "\n",
    "# Calculate FWHM for each peak\n",
    "fwhm_values_co60 <- sapply(fits_co60, calculate_fwhm)\n",
    "fwhm_values_cs137 <- sapply(fits_cs137, calculate_fwhm)\n",
    "fwhm_values_na22 <- sapply(fits_na22, calculate_fwhm)\n",
    "\n",
    "fwhm_values_NaI <- c(fwhm_values_cs137, fwhm_values_co60, fwhm_values_na22)\n",
    "# Estrarre i nomi (le chiavi)\n",
    "channels <- names(fwhm_values_NaI)\n",
    "\n",
    "# Rimuovere \".sigma\" dai nomi per ordinare correttamente\n",
    "channels_numeric <- as.numeric(gsub(\".sigma\", \"\", channels))\n",
    "\n",
    "# Ordinare le chiavi e ottenere l'indice di ordinamento\n",
    "order_indices <- order(channels_numeric)\n",
    "\n",
    "# Ordinare le chiavi\n",
    "sorted_channels <- channels[order_indices]\n",
    "\n",
    "# Riordinare i valori FWHM secondo l'ordine delle chiavi\n",
    "sorted_fwhm_values <- fwhm_values_NaI[order_indices]\n",
    "\n",
    "# Assegnare i nomi ordinati ai valori ordinati\n",
    "names(sorted_fwhm_values) <- sorted_channels\n",
    "\n",
    "# Stampare i valori FWHM ordinati per canale\n",
    "print(sorted_fwhm_values)\n"
   ]
  },
  {
   "cell_type": "code",
   "execution_count": 512,
   "metadata": {
    "vscode": {
     "languageId": "r"
    }
   },
   "outputs": [
    {
     "data": {
      "image/png": "[encoded data removed]",
      "text/plain": [
       "Plot with title \"Peak Position vs FWHM\""
      ]
     },
     "metadata": {
      "image/png": {
       "height": 360,
       "width": 720
      }
     },
     "output_type": "display_data"
    }
   ],
   "source": [
    "peaks <- c(peaks_cs137, peaks_co60, peaks_na22)\n",
    "\n",
    "peak_positions <- sort(peaks)\n",
    "fwhm_values <- sorted_fwhm_values\n",
    "\n",
    "# Plotting peak positions against FWHM values\n",
    "plot(peak_positions, fwhm_values,\n",
    "     xlab = \"Peak Position\",\n",
    "     ylab = \"FWHM (sigma)\",\n",
    "     main = \"Peak Position vs FWHM\")\n",
    "\n",
    "# Adding a linear regression line\n",
    "abline(lm(fwhm_values ~ peak_positions), col = \"red\")\n"
   ]
  },
  {
   "cell_type": "code",
   "execution_count": null,
   "metadata": {
    "vscode": {
     "languageId": "r"
    }
   },
   "outputs": [],
   "source": []
  }
 ],
 "metadata": {
  "kernelspec": {
   "display_name": "R",
   "language": "R",
   "name": "ir"
  },
  "language_info": {
   "codemirror_mode": "r",
   "file_extension": ".r",
   "mimetype": "text/x-r-source",
   "name": "R",
   "pygments_lexer": "r",
   "version": "4.3.3"
  }
 },
 "nbformat": 4,
 "nbformat_minor": 2
}
