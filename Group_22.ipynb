{
 "cells": [
  {
   "cell_type": "markdown",
   "metadata": {},
   "source": [
    "## Energy Resolution of Germanium detectors"
   ]
  },
  {
   "cell_type": "markdown",
   "metadata": {},
   "source": [
    "Eugenia Boccanera 2109310  \n",
    "Lucrezia Rossi 2122164"
   ]
  },
  {
   "cell_type": "markdown",
   "metadata": {},
   "source": [
    "NaI and Germanium detectors have wide fields of application for γ- and X-ray spectrometry thanks to their good energy resolution. The energy resolution of these detectors is defined as the width of the detected energy spectra peaks (FWHM); it depends on  \n",
    "    - the statistics of the charge creation process  \n",
    "    - the properties of the detector, and primarly its charge cllelction efficency   \n",
    "    - the electronics noise  \n",
    "\n",
    "The resolution can be expressed as the suquared sum of two terms:   \n",
    "$$FWHM = \\sqrt{(w_d)^2 + (w_e)^2}$$   \n",
    "where the first term depends on teh detector properties as:  \n",
    "$w_d = 2 * \\sqrt{(2 * \\log(2)) * F * E_{\\gamma} * w}$   \n",
    "with $F$ the _Fano factor_,  \n",
    "$E_{\\gamma}$  the energy of the photon deposited energy(?)  \n",
    "$w$ the electron hole-porduced energy threshold in germanium (w ~ 3eV).\n",
    "\n",
    "The $w_e$ term in eq.1 is connected with the readout electronics and depends on the detector capacitance, the size of the detector and the bias voltage.\n",
    "\n",
    "The following plot shows an uncalibrated energy spectrum collected with a Germanium detector\n",
    "irradiated by a combination of three sources: 241Am, 60Co and 137Cs[2].\n",
    "\n",
    "According to [2], the source nuclides emit the following photons:\n",
    "Nuclide 241Am 137Cs 60Co\n",
    "Photon energy (keV) 59.54 661.66 1173.24 1332.51\n",
    "and these are the first four peaks (starting from the left side) visible in the figure. Similar spectra have\n",
    "been collected with other gamma sources (i.e. Th-228)."
   ]
  },
  {
   "cell_type": "markdown",
   "metadata": {},
   "source": [
    "Detailed Steps\n",
    "##### 1. Understand the Data and Model\n",
    "\n",
    "The energy resolution (FWHM) of the Germanium detectors is given by:  \n",
    "$$FWHM = \\sqrt{(w_d)^2 + (w_e)^2}$$\n",
    "\n",
    "\n",
    "with  \n",
    "$w_d = 2 * \\sqrt{(2 * \\log(2)) * F * E_{\\gamma} * w}$  \n",
    "\n",
    "\n",
    "    ​\n",
    "\n",
    "    Here, F is the Fano factor, $E_{\\gamma}$​ is the energy of the photon, and w is the electron-hole production energy threshold in Germanium (approximately 3 eV).\n",
    "\n",
    "    You need to determine w_d_​ and w_e_​ for your data.\n",
    "\n",
    "##### 2. Define the Model for Fitting Peaks\n",
    "\n",
    "Identify the function you will use to fit the peaks. A common choice for spectral peaks is the Gaussian function.\n",
    "Define the full model incorporating the equation for FWHM and how it relates to the observed data.\n",
    "\n",
    "Use a Gaussian function to model the peaks in the energy spectra:\n",
    "$$f(E)=A * exp⁡(−\\frac{(E−μ)^2}{2σ^2})$$\n",
    "    \n",
    "where μ is the peak center, σ is the standard deviation related to FWHM by $FWHM = 2 * \\sqrt{2 * \\log{2}} * \\sigma$, and A is the amplitude.\n",
    "\n",
    "##### 3. Set Up Bayesian Inference\n",
    "\n",
    "Define prior distributions for the parameters μ, σ, A, $w_d$​, and $w_e$​. For example:  \n",
    "$μ∼N(μ_0,(σ_{\\mu})^2)$\n",
    "$σ∼N(σ_0,σ_σ^2)$  \n",
    "$A∼N(A_0,σ_A^2)$  \n",
    "$w_d∼N(w_{d0},σ_{w_d}^2)$  \n",
    "$w_e∼N(w_{e0},σ_{w_e}^2)$\n",
    "\n",
    "where N denotes a normal distribution with specified mean and variance.\n",
    "\n",
    "##### 4. Perform Bayesian Inference\n",
    "\n",
    "Use a Bayesian inference library like Stan to perform Markov Chain Monte Carlo (MCMC) sampling to obtain the posterior distributions of the parameters.\n",
    "\n",
    "\n",
    "\n",
    "##### 5. Validate and Interpret the Results\n",
    "\n",
    "Check the trace plots and posterior distributions to ensure the MCMC chains have converged.\n",
    "Compare the fitted model to the observed data using posterior predictive checks.\n",
    "\n",
    "##### 6. Report the Results\n",
    "\n",
    "Summarize the parameter estimates, including credible intervals.\n",
    "Provide visualizations, such as trace plots and the fitted spectrum overlaid on the observed data.\n",
    "\n",
    "### Theory Behind Bayesian Inference\n",
    "\n",
    "Bayesian inference combines prior knowledge with observed data to update the probability of a hypothesis. The steps are:\n",
    "\n",
    "- Prior Distribution: Represents your initial beliefs about the parameters before seeing the data.   \n",
    "- Likelihood: Represents the probability of the observed data given the parameters.  \n",
    "- Posterior Distribution: Updated beliefs about the parameters after considering the data, obtained via Bayes' theorem:  \n",
    "    $P(θ∣data) ∝ P(data∣θ)P(θ)$\n",
    "\n",
    "\n",
    "MCMC methods, such as the Metropolis-Hastings algorithm, are used to sample from the posterior distribution when it cannot be computed analytically.\n",
    "\n",
    "Metropolis-Hastings: Proposes new parameter values and accepts them based on an acceptance criterion.\n"
   ]
  },
  {
   "cell_type": "markdown",
   "metadata": {},
   "source": [
    "## 1. \n",
    "### Using statistical methods similar to that presented during the course, infere the FWHM of each γ peak for all available γ sources"
   ]
  },
  {
   "cell_type": "markdown",
   "metadata": {},
   "source": [
    "### a. Load the required libraries"
   ]
  },
  {
   "cell_type": "code",
   "execution_count": 1,
   "metadata": {
    "vscode": {
     "languageId": "r"
    }
   },
   "outputs": [
    {
     "name": "stderr",
     "output_type": "stream",
     "text": [
      "Caricamento del pacchetto richiesto: StanHeaders\n",
      "\n",
      "\n",
      "rstan version 2.32.6 (Stan version 2.32.2)\n",
      "\n",
      "\n",
      "For execution on a local, multicore CPU with excess RAM we recommend calling\n",
      "options(mc.cores = parallel::detectCores()).\n",
      "To avoid recompilation of unchanged Stan programs, we recommend calling\n",
      "rstan_options(auto_write = TRUE)\n",
      "For within-chain threading using `reduce_sum()` or `map_rect()` Stan functions,\n",
      "change `threads_per_chain` option:\n",
      "rstan_options(threads_per_chain = 1)\n",
      "\n",
      "\n",
      "Do not specify '-march=native' in 'LOCAL_CPPFLAGS' or a Makevars file\n",
      "\n",
      "This is bayesplot version 1.11.1\n",
      "\n",
      "- Online documentation and vignettes at mc-stan.org/bayesplot\n",
      "\n",
      "- bayesplot theme set to bayesplot::theme_default()\n",
      "\n",
      "   * Does _not_ affect other ggplot2 plots\n",
      "\n",
      "   * See ?bayesplot_theme_set for details on theme setting\n",
      "\n",
      "\n",
      "Caricamento pacchetto: 'dplyr'\n",
      "\n",
      "\n",
      "I seguenti oggetti sono mascherati da 'package:stats':\n",
      "\n",
      "    filter, lag\n",
      "\n",
      "\n",
      "I seguenti oggetti sono mascherati da 'package:base':\n",
      "\n",
      "    intersect, setdiff, setequal, union\n",
      "\n",
      "\n",
      "\n",
      "'nlstools' has been loaded.\n",
      "\n",
      "\n",
      "IMPORTANT NOTICE: Most nonlinear regression models and data set examples\n",
      "\n",
      "related to predictive microbiolgy have been moved to the package 'nlsMicrobio'\n",
      "\n",
      "\n",
      "\n",
      "Caricamento pacchetto: 'gridExtra'\n",
      "\n",
      "\n",
      "Il seguente oggetto è mascherato da 'package:dplyr':\n",
      "\n",
      "    combine\n",
      "\n",
      "\n"
     ]
    }
   ],
   "source": [
    "# Load the libraries\n",
    "library(rstan)\n",
    "library(ggplot2)\n",
    "library(bayesplot)\n",
    "\n",
    "library(dplyr)\n",
    "library(nlstools)\n",
    "library(pracma)\n",
    "\n",
    "library(gridExtra)\n",
    "\n",
    "# Configure rstan\n",
    "rstan_options(auto_write = TRUE)\n",
    "options(mc.cores = parallel::detectCores())\n"
   ]
  },
  {
   "cell_type": "markdown",
   "metadata": {},
   "source": [
    "### b. Load the data"
   ]
  },
  {
   "cell_type": "markdown",
   "metadata": {},
   "source": [
    "I dati nei files rappresentano un tipico spettro energetico ottenuto da un rivelatore, in questo caso presumibilmente un rivelatore di germanio, dopo essere stato irradiato da una sorgente contenente Cesio-137 (Cs-137) (es). Ogni riga del file contiene due valori:\n",
    "\n",
    "    Il primo valore rappresenta il canale del rivelatore, che è essenzialmente l'indice o la posizione del dato nel file.  \n",
    "    Il secondo valore rappresenta il numero di conteggi (o eventi) registrati in quel canale durante la misura dell'energia.  \n",
    "\n",
    "Canale del rivelatore:\n",
    "\n",
    "    Ogni rivelatore di energia (come un rivelatore di germanio) divide l'intervallo di energia che può misurare in canali discreti. Ogni canale corrisponde a una determinata gamma di energia che il rivelatore è in grado di rilevare.\n",
    "\n",
    "Conteggi:\n",
    "\n",
    "    I conteggi registrati rappresentano il numero di volte che il rivelatore ha rilevato un evento energetico (un fotone gamma, nel caso di un rivelatore di germanio) in quel particolare canale durante l'esperimento.\n",
    "\n"
   ]
  },
  {
   "cell_type": "code",
   "execution_count": 2,
   "metadata": {
    "vscode": {
     "languageId": "r"
    }
   },
   "outputs": [],
   "source": [
    "# Load the data\n",
    "gr11_co60 <- read.table(\"gr11_co60.txt\", header = FALSE)\n",
    "gr11_cs137 <- read.table(\"gr11_cs137.txt\", header = FALSE)\n",
    "gr11_na22 <- read.table(\"gr11_na22.txt\", header = FALSE)\n",
    "IC48A_AmCsCo <- read.table(\"IC48A_AmCsCo.txt\", header = FALSE)\n",
    "IC48A_Th <- read.table(\"IC48A_Th.txt\", header = FALSE)\n",
    "\n",
    "# Assign column names\n",
    "colnames(gr11_co60) <- c(\"Channel\", \"Count\")\n",
    "colnames(gr11_cs137) <- c(\"Channel\", \"Count\")\n",
    "colnames(gr11_na22) <- c(\"Channel\", \"Count\")\n",
    "colnames(IC48A_AmCsCo) <- c(\"Channel\", \"Count\")\n",
    "colnames(IC48A_Th) <- c(\"Channel\", \"Count\")\n",
    "\n",
    "# Add the column log_Count\n",
    "gr11_co60$log_Count <- log(gr11_co60$Count + 1)\n",
    "gr11_cs137$log_Count <- log(gr11_cs137$Count + 1)\n",
    "gr11_na22$log_Count <- log(gr11_na22$Count + 1)\n",
    "IC48A_AmCsCo$log_Count <- log(IC48A_AmCsCo$Count + 1)\n",
    "IC48A_Th$log_Count <- log(IC48A_Th$Count + 1)\n",
    "\n",
    "# Drop the rows with Count < 0\n",
    "gr11_co60 <- gr11_co60[gr11_co60$Count >= 0, ]\n",
    "gr11_cs137 <- gr11_cs137[gr11_cs137$Count >= 0, ]\n",
    "gr11_na22 <- gr11_na22[gr11_na22$Count >= 0, ]\n",
    "IC48A_AmCsCo <- IC48A_AmCsCo[IC48A_AmCsCo$Count >= 0, ]\n",
    "IC48A_Th <- IC48A_Th[IC48A_Th$Count >= 0, ]"
   ]
  },
  {
   "cell_type": "markdown",
   "metadata": {},
   "source": [
    "### c. Inspect the Data - Plot the Spectra"
   ]
  },
  {
   "cell_type": "markdown",
   "metadata": {},
   "source": [
    "Ogni picco nello spettro rappresenta un'energia specifica dei fotoni gamma emessi dalle sorgenti radioattive, come Co-60, Cs-137, Na-22, AmCsCo, o Th. L'analisi di questi spettri permette di identificare e caratterizzare le sorgenti radioattive presenti, valutare la risoluzione energetica del rivelatore e studiare altre proprietà del rivelatore e delle sorgenti."
   ]
  },
  {
   "cell_type": "code",
   "execution_count": 3,
   "metadata": {
    "vscode": {
     "languageId": "r"
    }
   },
   "outputs": [
    {
     "data": {
      "image/png": "[encoded data removed]",
      "text/plain": [
       "plot without title"
      ]
     },
     "metadata": {
      "image/png": {
       "height": 360,
       "width": 720
      }
     },
     "output_type": "display_data"
    },
    {
     "data": {
      "image/png": "[encoded data removed]",
      "text/plain": [
       "plot without title"
      ]
     },
     "metadata": {
      "image/png": {
       "height": 360,
       "width": 720
      }
     },
     "output_type": "display_data"
    },
    {
     "data": {
      "image/png": "[encoded data removed]",
      "text/plain": [
       "plot without title"
      ]
     },
     "metadata": {
      "image/png": {
       "height": 360,
       "width": 720
      }
     },
     "output_type": "display_data"
    },
    {
     "data": {
      "image/png": "[encoded data removed]",
      "text/plain": [
       "plot without title"
      ]
     },
     "metadata": {
      "image/png": {
       "height": 360,
       "width": 720
      }
     },
     "output_type": "display_data"
    },
    {
     "data": {
      "image/png": "[encoded data removed]",
      "text/plain": [
       "plot without title"
      ]
     },
     "metadata": {
      "image/png": {
       "height": 360,
       "width": 720
      }
     },
     "output_type": "display_data"
    }
   ],
   "source": [
    "# Plot function\n",
    "options(repr.plot.width = 12, repr.plot.height = 6)\n",
    "plot_spectrum <- function(data, title) {\n",
    "  ggplot(data, aes(x = Channel, y = log_Count)) +\n",
    "    geom_line(col='black', lwd=0.2, na.rm = TRUE) +\n",
    "    ggtitle(title) +\n",
    "    xlab(\"Channel\") +\n",
    "    ylab(\"log(Counts)\") +\n",
    "    theme_minimal() +\n",
    "    #xlim(1, 6000)  +\n",
    "    theme(axis.title = element_text(size = 14))\n",
    "}\n",
    "\n",
    "# Plot each spectrum\n",
    "plot_spectrum(gr11_co60, \"Spectrum of Co-60\")\n",
    "plot_spectrum(gr11_cs137, \"Spectrum of Cs-137\")\n",
    "plot_spectrum(gr11_na22, \"Spectrum of Na-22\")\n",
    "plot_spectrum(IC48A_AmCsCo, \"Spectrum of Am, Cs, Co\")\n",
    "plot_spectrum(IC48A_Th, \"Spectrum of Th\")\n"
   ]
  },
  {
   "cell_type": "markdown",
   "metadata": {},
   "source": [
    "### d. Find Peaks Precisely and Infer FWHM"
   ]
  },
  {
   "cell_type": "markdown",
   "metadata": {
    "vscode": {
     "languageId": "r"
    }
   },
   "source": [
    "La funzione movavg dalla libreria pracma viene utilizzata per applicare una media mobile semplice ai valori nella colonna Value. La media mobile aiuta a ridurre il rumore nei dati, facilitando l'identificazione dei picchi principali.\n",
    "La media mobile viene calcolata su una finestra di dimensione window_size (5 per default).\n",
    "I valori levigati vengono salvati in smoothed_values"
   ]
  },
  {
   "cell_type": "markdown",
   "metadata": {},
   "source": [
    "I puntini rossi che vengono plottati corrispondono ai picchi effettivamente trovati dalla funzione find_local_peaks_around_x. Questa funzione trova i massimi locali nella colonna log_Count dei dati intorno ai valori di x_values che hai specificato."
   ]
  },
  {
   "cell_type": "code",
   "execution_count": 4,
   "metadata": {
    "vscode": {
     "languageId": "r"
    }
   },
   "outputs": [
    {
     "data": {
      "image/png": "[encoded data removed]",
      "text/plain": [
       "plot without title"
      ]
     },
     "metadata": {
      "image/png": {
       "height": 360,
       "width": 720
      }
     },
     "output_type": "display_data"
    },
    {
     "data": {
      "image/png": "[encoded data removed]",
      "text/plain": [
       "plot without title"
      ]
     },
     "metadata": {
      "image/png": {
       "height": 360,
       "width": 720
      }
     },
     "output_type": "display_data"
    },
    {
     "data": {
      "image/png": "[encoded data removed]",
      "text/plain": [
       "plot without title"
      ]
     },
     "metadata": {
      "image/png": {
       "height": 360,
       "width": 720
      }
     },
     "output_type": "display_data"
    },
    {
     "data": {
      "image/png": "[encoded data removed]",
      "text/plain": [
       "plot without title"
      ]
     },
     "metadata": {
      "image/png": {
       "height": 360,
       "width": 720
      }
     },
     "output_type": "display_data"
    },
    {
     "data": {
      "text/html": [
       "<style>\n",
       ".list-inline {list-style: none; margin:0; padding: 0}\n",
       ".list-inline>li {display: inline-block}\n",
       ".list-inline>li:not(:last-child)::after {content: \"\\00b7\"; padding: 0 .5ex}\n",
       "</style>\n",
       "<ol class=list-inline><li>647</li><li>3057</li><li>3457</li></ol>\n"
      ],
      "text/latex": [
       "\\begin{enumerate*}\n",
       "\\item 647\n",
       "\\item 3057\n",
       "\\item 3457\n",
       "\\end{enumerate*}\n"
      ],
      "text/markdown": [
       "1. 647\n",
       "2. 3057\n",
       "3. 3457\n",
       "\n",
       "\n"
      ],
      "text/plain": [
       "[1]  647 3057 3457"
      ]
     },
     "metadata": {},
     "output_type": "display_data"
    },
    {
     "data": {
      "text/html": [
       "<style>\n",
       ".list-inline {list-style: none; margin:0; padding: 0}\n",
       ".list-inline>li {display: inline-block}\n",
       ".list-inline>li:not(:last-child)::after {content: \"\\00b7\"; padding: 0 .5ex}\n",
       "</style>\n",
       "<ol class=list-inline><li>599</li><li>1779</li></ol>\n"
      ],
      "text/latex": [
       "\\begin{enumerate*}\n",
       "\\item 599\n",
       "\\item 1779\n",
       "\\end{enumerate*}\n"
      ],
      "text/markdown": [
       "1. 599\n",
       "2. 1779\n",
       "\n",
       "\n"
      ],
      "text/plain": [
       "[1]  599 1779"
      ]
     },
     "metadata": {},
     "output_type": "display_data"
    },
    {
     "data": {
      "text/html": [
       "<style>\n",
       ".list-inline {list-style: none; margin:0; padding: 0}\n",
       ".list-inline>li {display: inline-block}\n",
       ".list-inline>li:not(:last-child)::after {content: \"\\00b7\"; padding: 0 .5ex}\n",
       "</style>\n",
       "<ol class=list-inline><li>609</li><li>1365</li><li>3301</li></ol>\n"
      ],
      "text/latex": [
       "\\begin{enumerate*}\n",
       "\\item 609\n",
       "\\item 1365\n",
       "\\item 3301\n",
       "\\end{enumerate*}\n"
      ],
      "text/markdown": [
       "1. 609\n",
       "2. 1365\n",
       "3. 3301\n",
       "\n",
       "\n"
      ],
      "text/plain": [
       "[1]  609 1365 3301"
      ]
     },
     "metadata": {},
     "output_type": "display_data"
    },
    {
     "data": {
      "text/html": [
       "<style>\n",
       ".list-inline {list-style: none; margin:0; padding: 0}\n",
       ".list-inline>li {display: inline-block}\n",
       ".list-inline>li:not(:last-child)::after {content: \"\\00b7\"; padding: 0 .5ex}\n",
       "</style>\n",
       "<ol class=list-inline><li>2280</li><li>4041</li><li>4589</li><li>8623</li></ol>\n"
      ],
      "text/latex": [
       "\\begin{enumerate*}\n",
       "\\item 2280\n",
       "\\item 4041\n",
       "\\item 4589\n",
       "\\item 8623\n",
       "\\end{enumerate*}\n"
      ],
      "text/markdown": [
       "1. 2280\n",
       "2. 4041\n",
       "3. 4589\n",
       "4. 8623\n",
       "\n",
       "\n"
      ],
      "text/plain": [
       "[1] 2280 4041 4589 8623"
      ]
     },
     "metadata": {},
     "output_type": "display_data"
    },
    {
     "data": {
      "text/html": [
       "<style>\n",
       ".list-inline {list-style: none; margin:0; padding: 0}\n",
       ".list-inline>li {display: inline-block}\n",
       ".list-inline>li:not(:last-child)::after {content: \"\\00b7\"; padding: 0 .5ex}\n",
       "</style>\n",
       "<ol class=list-inline><li>485</li><li>1504</li><li>1890</li><li>3218</li><li>3674</li><li>4581</li><li>4948</li><li>5420</li><li>6793</li><li>9525</li><li>10025</li><li>10202</li><li>13240</li><li>16452</li><li>20099</li></ol>\n"
      ],
      "text/latex": [
       "\\begin{enumerate*}\n",
       "\\item 485\n",
       "\\item 1504\n",
       "\\item 1890\n",
       "\\item 3218\n",
       "\\item 3674\n",
       "\\item 4581\n",
       "\\item 4948\n",
       "\\item 5420\n",
       "\\item 6793\n",
       "\\item 9525\n",
       "\\item 10025\n",
       "\\item 10202\n",
       "\\item 13240\n",
       "\\item 16452\n",
       "\\item 20099\n",
       "\\end{enumerate*}\n"
      ],
      "text/markdown": [
       "1. 485\n",
       "2. 1504\n",
       "3. 1890\n",
       "4. 3218\n",
       "5. 3674\n",
       "6. 4581\n",
       "7. 4948\n",
       "8. 5420\n",
       "9. 6793\n",
       "10. 9525\n",
       "11. 10025\n",
       "12. 10202\n",
       "13. 13240\n",
       "14. 16452\n",
       "15. 20099\n",
       "\n",
       "\n"
      ],
      "text/plain": [
       " [1]   485  1504  1890  3218  3674  4581  4948  5420  6793  9525 10025 10202\n",
       "[13] 13240 16452 20099"
      ]
     },
     "metadata": {},
     "output_type": "display_data"
    },
    {
     "data": {
      "image/png": "[encoded data removed]",
      "text/plain": [
       "plot without title"
      ]
     },
     "metadata": {
      "image/png": {
       "height": 360,
       "width": 720
      }
     },
     "output_type": "display_data"
    }
   ],
   "source": [
    "# Function to find indices of values closest to specified x values\n",
    "find_indices_around_x <- function(data, x_values) {\n",
    "  indices <- numeric(0)\n",
    "  for (x_val in x_values) {\n",
    "    index <- which.min(abs(data$Channel - x_val))\n",
    "    indices <- c(indices, index)\n",
    "  }\n",
    "  return(indices)\n",
    "}\n",
    "\n",
    "# Function to smooth data\n",
    "smooth_data <- function(data, window_size) {\n",
    "  smoothed_values <- movavg(data$log_Count, n = window_size, type = \"s\")\n",
    "  smoothed_data <- data\n",
    "  smoothed_data$log_Count <- smoothed_values\n",
    "  return(smoothed_data)\n",
    "}\n",
    "\n",
    "plot_peaks_around_x <- function(data, title, x_values, window_size, apply_smoothing = TRUE) {\n",
    "  if (apply_smoothing) {\n",
    "    # Smooth the data\n",
    "    data <- smooth_data(data, window_size)\n",
    "  }\n",
    "  indices <- find_indices_around_x(data, x_values)\n",
    "  \n",
    "  # Plot the data with red points at specified x values\n",
    "  ggplot(data, aes(x = Channel, y = log_Count)) +\n",
    "    geom_line() +\n",
    "    geom_point(data = data[indices, ], aes(x = Channel, y = log_Count), color = \"red\", size = 2) +\n",
    "    ggtitle(title) +\n",
    "    xlab(\"Channel\") +\n",
    "    ylab(\"Log(Counts)\") +\n",
    "    theme_minimal() +\n",
    "    theme(plot.title = element_text(size = 20),\n",
    "          axis.title = element_text(size = 15),\n",
    "          axis.text = element_text(size = 12))\n",
    "}\n",
    "\n",
    "find_and_return_peaks_around_x <- function(data, x_values, window_size, apply_smoothing = TRUE) {\n",
    "  if (apply_smoothing) {\n",
    "    # Smooth the data\n",
    "    data <- smooth_data(data, window_size)\n",
    "  }\n",
    "  indices <- find_indices_around_x(data, x_values)\n",
    "  # Get peak positions\n",
    "  peak_positions <- data$Channel[indices]\n",
    "  # Return peak positions\n",
    "  return(peak_positions)\n",
    "}\n",
    "\n",
    "position_co60 <- c(647, 3058, 3458)\n",
    "position_cs137 <- c(600, 1779)\n",
    "position_na22 <- c(609, 1366, 3302)\n",
    "position_AmCsCo<- c(2280, 4041, 4589, 8623)\n",
    "position_Th <- c( 485, 1504,1890,  3218, 3674, 4581,4948 , 5420, 6793, 9525, 10025, 10202,13240, 16452, 20099)\n",
    "plot_peaks_around_x(gr11_co60, \"Spectrum of Co-60 with Peaks at Specified X Values\", x_values =position_co60, window_size = 5, apply_smoothing = TRUE)\n",
    "plot_peaks_around_x(gr11_cs137, \"Spectrum of Cs-137 with Peaks at Specified X Values\", x_values = position_cs137, window_size = 5, apply_smoothing = TRUE)\n",
    "plot_peaks_around_x(gr11_na22, \"Spectrum of Na-22 with Peaks at Specified X Values\", x_values = position_na22, window_size = 5, apply_smoothing = TRUE)\n",
    "plot_peaks_around_x(IC48A_AmCsCo, \"Spectrum of Am, Cs, Co with Peaks at Specified X Values\", x_values = position_AmCsCo, window_size = 8, apply_smoothing = FALSE)\n",
    "plot_peaks_around_x(IC48A_Th, \"Spectrum of Th with Peaks at Specified X Values\", x_values = position_Th, window_size = 8, apply_smoothing = FALSE)\n",
    "\n",
    "peaks_co60 <- find_and_return_peaks_around_x (gr11_co60, x_values = position_co60, window_size = 5, apply_smoothing = TRUE)\n",
    "peaks_cs137 <- find_and_return_peaks_around_x (gr11_cs137, x_values = position_cs137, window_size = 5, apply_smoothing = TRUE)\n",
    "peaks_na22 <- find_and_return_peaks_around_x (gr11_na22, x_values = position_na22, window_size = 5, apply_smoothing = TRUE)\n",
    "peaks_AmCsCo <- find_and_return_peaks_around_x (IC48A_AmCsCo, x_values = position_AmCsCo, window_size = 8, apply_smoothing = FALSE)\n",
    "peaks_Th <- find_and_return_peaks_around_x (IC48A_Th, x_values = position_Th, window_size = 8, apply_smoothing = FALSE)\n",
    "\n",
    "peaks_co60\n",
    "peaks_cs137\n",
    "peaks_na22\n",
    "peaks_AmCsCo\n",
    "peaks_Th"
   ]
  },
  {
   "cell_type": "code",
   "execution_count": 5,
   "metadata": {
    "vscode": {
     "languageId": "r"
    }
   },
   "outputs": [
    {
     "name": "stdout",
     "output_type": "stream",
     "text": [
      "$`2280`\n",
      "     Channel Count log_Count\n",
      "2230    2229   130  4.875197\n",
      "2231    2230   121  4.804021\n",
      "2232    2231   137  4.927254\n",
      "2233    2232   134  4.905275\n",
      "2234    2233   134  4.905275\n",
      "2235    2234   116  4.762174\n",
      "2236    2235   121  4.804021\n",
      "2237    2236   106  4.672829\n",
      "2238    2237   122  4.812184\n",
      "2239    2238   110  4.709530\n",
      "2240    2239   137  4.927254\n",
      "2241    2240   109  4.700480\n",
      "2242    2241   110  4.709530\n",
      "2243    2242   126  4.844187\n",
      "2244    2243   110  4.709530\n",
      "2245    2244   131  4.882802\n",
      "2246    2245   141  4.955827\n",
      "2247    2246   111  4.718499\n",
      "2248    2247   133  4.897840\n",
      "2249    2248   140  4.948760\n",
      "2250    2249   155  5.049856\n",
      "2251    2250   145  4.983607\n",
      "2252    2251   128  4.859812\n",
      "2253    2252   142  4.962845\n",
      "2254    2253   137  4.927254\n",
      "2255    2254   125  4.836282\n",
      "2256    2255   117  4.770685\n",
      "2257    2256   144  4.976734\n",
      "2258    2257   131  4.882802\n",
      "2259    2258   142  4.962845\n",
      "2260    2259   164  5.105945\n",
      "2261    2260   164  5.105945\n",
      "2262    2261   135  4.912655\n",
      "2263    2262   160  5.081404\n",
      "2264    2263   146  4.990433\n",
      "2265    2264   169  5.135798\n",
      "2266    2265   162  5.093750\n",
      "2267    2266   164  5.105945\n",
      "2268    2267   182  5.209486\n",
      "2269    2268   188  5.241747\n",
      "2270    2269   195  5.278115\n",
      "2271    2270   225  5.420535\n",
      "2272    2271   324  5.783825\n",
      "2273    2272   536  6.285998\n",
      "2274    2273  1286  7.160069\n",
      "2275    2274  2947  7.988882\n",
      "2276    2275  6019  8.702843\n",
      "2277    2276 10521  9.261224\n",
      "2278    2277 16794  9.728837\n",
      "2279    2278 22759 10.032760\n",
      "2280    2279 26951 10.201813\n",
      "2281    2280 26606 10.188930\n",
      "2282    2281 21441  9.973107\n",
      "2283    2282 14118  9.555277\n",
      "2284    2283  7650  8.942592\n",
      "2285    2284  3182  8.065579\n",
      "2286    2285  1184  7.077498\n",
      "2287    2286   349  5.857933\n",
      "2288    2287   141  4.955827\n",
      "2289    2288    98  4.595120\n",
      "2290    2289    86  4.465908\n",
      "2291    2290    91  4.521789\n",
      "2292    2291    78  4.369448\n",
      "2293    2292    79  4.382027\n",
      "2294    2293    78  4.369448\n",
      "2295    2294    84  4.442651\n",
      "2296    2295    91  4.521789\n",
      "2297    2296    75  4.330733\n",
      "2298    2297    90  4.510860\n",
      "2299    2298    85  4.454347\n",
      "2300    2299    82  4.418841\n",
      "2301    2300    76  4.343805\n",
      "2302    2301    77  4.356709\n",
      "2303    2302    83  4.430817\n",
      "2304    2303    70  4.262680\n",
      "2305    2304    70  4.262680\n",
      "2306    2305    76  4.343805\n",
      "2307    2306    77  4.356709\n",
      "2308    2307    82  4.418841\n",
      "2309    2308    84  4.442651\n",
      "2310    2309    81  4.406719\n",
      "2311    2310    71  4.276666\n",
      "2312    2311    82  4.418841\n",
      "2313    2312    78  4.369448\n",
      "2314    2313    75  4.330733\n",
      "2315    2314    70  4.262680\n",
      "2316    2315    82  4.418841\n",
      "2317    2316    82  4.418841\n",
      "2318    2317    83  4.430817\n",
      "2319    2318    90  4.510860\n",
      "2320    2319    92  4.532599\n",
      "2321    2320    79  4.382027\n",
      "2322    2321    71  4.276666\n",
      "2323    2322    77  4.356709\n",
      "2324    2323    72  4.290459\n",
      "2325    2324    83  4.430817\n",
      "2326    2325    90  4.510860\n",
      "2327    2326    77  4.356709\n",
      "2328    2327    75  4.330733\n",
      "2329    2328    78  4.369448\n",
      "2330    2329    67  4.219508\n",
      "\n",
      "$`4041`\n",
      "     Channel Count log_Count\n",
      "3991    3990    44  3.806662\n",
      "3992    3991    60  4.110874\n",
      "3993    3992    67  4.219508\n",
      "3994    3993    72  4.290459\n",
      "3995    3994    57  4.060443\n",
      "3996    3995    63  4.158883\n",
      "3997    3996    66  4.204693\n",
      "3998    3997    61  4.127134\n",
      "3999    3998    66  4.204693\n",
      "4000    3999    71  4.276666\n",
      "4001    4000    60  4.110874\n",
      "4002    4001    69  4.248495\n",
      "4003    4002    53  3.988984\n",
      "4004    4003    68  4.234107\n",
      "4005    4004    68  4.234107\n",
      "4006    4005    57  4.060443\n",
      "4007    4006    59  4.094345\n",
      "4008    4007    70  4.262680\n",
      "4009    4008    69  4.248495\n",
      "4010    4009    66  4.204693\n",
      "4011    4010    67  4.219508\n",
      "4012    4011    64  4.174387\n",
      "4013    4012    65  4.189655\n",
      "4014    4013    75  4.330733\n",
      "4015    4014    70  4.262680\n",
      "4016    4015    60  4.110874\n",
      "4017    4016    72  4.290459\n",
      "4018    4017    66  4.204693\n",
      "4019    4018    61  4.127134\n",
      "4020    4019    59  4.094345\n",
      "4021    4020    75  4.330733\n",
      "4022    4021    71  4.276666\n",
      "4023    4022    71  4.276666\n",
      "4024    4023    70  4.262680\n",
      "4025    4024    73  4.304065\n",
      "4026    4025    97  4.584967\n",
      "4027    4026    77  4.356709\n",
      "4028    4027    91  4.521789\n",
      "4029    4028   134  4.905275\n",
      "4030    4029   145  4.983607\n",
      "4031    4030   270  5.602119\n",
      "4032    4031   455  6.122493\n",
      "4033    4032   743  6.612041\n",
      "4034    4033  1265  7.143618\n",
      "4035    4034  1897  7.548556\n",
      "4036    4035  2867  7.961370\n",
      "4037    4036  3722  8.222285\n",
      "4038    4037  4884  8.493925\n",
      "4039    4038  5957  8.692490\n",
      "4040    4039  6888  8.837681\n",
      "4041    4040  7477  8.919721\n",
      "4042    4041  7395  8.908695\n",
      "4043    4042  6499  8.779557\n",
      "4044    4043  5013  8.519989\n",
      "4045    4044  3273  8.093768\n",
      "4046    4045  1929  7.565275\n",
      "4047    4046  1010  6.918695\n",
      "4048    4047   457  6.126869\n",
      "4049    4048   176  5.176150\n",
      "4050    4049    92  4.532599\n",
      "4051    4050    53  3.988984\n",
      "4052    4051    51  3.951244\n",
      "4053    4052    44  3.806662\n",
      "4054    4053    50  3.931826\n",
      "4055    4054    49  3.912023\n",
      "4056    4055    50  3.931826\n",
      "4057    4056    48  3.891820\n",
      "4058    4057    51  3.951244\n",
      "4059    4058    46  3.850148\n",
      "4060    4059    49  3.912023\n",
      "4061    4060    40  3.713572\n",
      "4062    4061    43  3.784190\n",
      "4063    4062    50  3.931826\n",
      "4064    4063    51  3.951244\n",
      "4065    4064    44  3.806662\n",
      "4066    4065    39  3.688879\n",
      "4067    4066    32  3.496508\n",
      "4068    4067    38  3.663562\n",
      "4069    4068    35  3.583519\n",
      "4070    4069    43  3.784190\n",
      "4071    4070    57  4.060443\n",
      "4072    4071    38  3.663562\n",
      "4073    4072    48  3.891820\n",
      "4074    4073    42  3.761200\n",
      "4075    4074    36  3.610918\n",
      "4076    4075    46  3.850148\n",
      "4077    4076    42  3.761200\n",
      "4078    4077    41  3.737670\n",
      "4079    4078    33  3.526361\n",
      "4080    4079    37  3.637586\n",
      "4081    4080    31  3.465736\n",
      "4082    4081    34  3.555348\n",
      "4083    4082    35  3.583519\n",
      "4084    4083    56  4.043051\n",
      "4085    4084    38  3.663562\n",
      "4086    4085    42  3.761200\n",
      "4087    4086    49  3.912023\n",
      "4088    4087    55  4.025352\n",
      "4089    4088    33  3.526361\n",
      "4090    4089    40  3.713572\n",
      "4091    4090    42  3.761200\n",
      "\n",
      "$`4589`\n",
      "     Channel Count log_Count\n",
      "4539    4538    30  3.433987\n",
      "4540    4539    17  2.890372\n",
      "4541    4540    29  3.401197\n",
      "4542    4541    21  3.091042\n",
      "4543    4542    26  3.295837\n",
      "4544    4543    26  3.295837\n",
      "4545    4544    17  2.890372\n",
      "4546    4545    16  2.833213\n",
      "4547    4546    26  3.295837\n",
      "4548    4547    29  3.401197\n",
      "4549    4548    29  3.401197\n",
      "4550    4549    32  3.496508\n",
      "4551    4550    38  3.663562\n",
      "4552    4551    26  3.295837\n",
      "4553    4552    22  3.135494\n",
      "4554    4553    34  3.555348\n",
      "4555    4554    34  3.555348\n",
      "4556    4555    32  3.496508\n",
      "4557    4556    26  3.295837\n",
      "4558    4557    23  3.178054\n",
      "4559    4558    27  3.332205\n",
      "4560    4559    32  3.496508\n",
      "4561    4560    21  3.091042\n",
      "4562    4561    24  3.218876\n",
      "4563    4562    37  3.637586\n",
      "4564    4563    27  3.332205\n",
      "4565    4564    22  3.135494\n",
      "4566    4565    29  3.401197\n",
      "4567    4566    24  3.218876\n",
      "4568    4567    33  3.526361\n",
      "4569    4568    31  3.465736\n",
      "4570    4569    31  3.465736\n",
      "4571    4570    35  3.583519\n",
      "4572    4571    34  3.555348\n",
      "4573    4572    32  3.496508\n",
      "4574    4573    48  3.891820\n",
      "4575    4574    71  4.276666\n",
      "4576    4575    87  4.477337\n",
      "4577    4576   114  4.744932\n",
      "4578    4577   189  5.247024\n",
      "4579    4578   345  5.846439\n",
      "4580    4579   560  6.329721\n",
      "4581    4580   975  6.883463\n",
      "4582    4581  1461  7.287561\n",
      "4583    4582  2084  7.642524\n",
      "4584    4583  2701  7.901748\n",
      "4585    4584  3464  8.150468\n",
      "4586    4585  4218  8.347353\n",
      "4587    4586  5140  8.545003\n",
      "4588    4587  5830  8.670944\n",
      "4589    4588  6233  8.737773\n",
      "4590    4589  6223  8.736168\n",
      "4591    4590  5473  8.607765\n",
      "4592    4591  4257  8.356555\n",
      "4593    4592  2966  7.995307\n",
      "4594    4593  1917  7.559038\n",
      "4595    4594  1046  6.953684\n",
      "4596    4595   517  6.249975\n",
      "4597    4596   211  5.356586\n",
      "4598    4597    89  4.499810\n",
      "4599    4598    43  3.784190\n",
      "4600    4599    14  2.708050\n",
      "4601    4600    24  3.218876\n",
      "4602    4601    11  2.484907\n",
      "4603    4602    10  2.397895\n",
      "4604    4603     6  1.945910\n",
      "4605    4604    13  2.639057\n",
      "4606    4605    12  2.564949\n",
      "4607    4606    10  2.397895\n",
      "4608    4607    13  2.639057\n",
      "4609    4608    15  2.772589\n",
      "4610    4609     4  1.609438\n",
      "4611    4610    14  2.708050\n",
      "4612    4611    12  2.564949\n",
      "4613    4612    15  2.772589\n",
      "4614    4613    11  2.484907\n",
      "4615    4614    16  2.833213\n",
      "4616    4615    17  2.890372\n",
      "4617    4616    18  2.944439\n",
      "4618    4617    19  2.995732\n",
      "4619    4618    13  2.639057\n",
      "4620    4619    13  2.639057\n",
      "4621    4620    16  2.833213\n",
      "4622    4621    12  2.564949\n",
      "4623    4622    10  2.397895\n",
      "4624    4623     7  2.079442\n",
      "4625    4624    16  2.833213\n",
      "4626    4625    16  2.833213\n",
      "4627    4626    12  2.564949\n",
      "4628    4627    18  2.944439\n",
      "4629    4628    16  2.833213\n",
      "4630    4629     7  2.079442\n",
      "4631    4630     8  2.197225\n",
      "4632    4631    11  2.484907\n",
      "4633    4632    12  2.564949\n",
      "4634    4633    17  2.890372\n",
      "4635    4634     9  2.302585\n",
      "4636    4635    11  2.484907\n",
      "4637    4636    17  2.890372\n",
      "4638    4637    11  2.484907\n",
      "4639    4638    17  2.890372\n",
      "\n",
      "$`8623`\n",
      "     Channel Count log_Count\n",
      "8573    8572     1 0.6931472\n",
      "8574    8573     0 0.0000000\n",
      "8575    8574     3 1.3862944\n",
      "8576    8575     1 0.6931472\n",
      "8577    8576     0 0.0000000\n",
      "8578    8577     2 1.0986123\n",
      "8579    8578     0 0.0000000\n",
      "8580    8579     1 0.6931472\n",
      "8581    8580     4 1.6094379\n",
      "8582    8581     0 0.0000000\n",
      "8583    8582     4 1.6094379\n",
      "8584    8583     5 1.7917595\n",
      "8585    8584     1 0.6931472\n",
      "8586    8585     2 1.0986123\n",
      "8587    8586     1 0.6931472\n",
      "8588    8587     3 1.3862944\n",
      "8589    8588     3 1.3862944\n",
      "8590    8589     4 1.6094379\n",
      "8591    8590     4 1.6094379\n",
      "8592    8591     4 1.6094379\n",
      "8593    8592    10 2.3978953\n",
      "8594    8593     8 2.1972246\n",
      "8595    8594     3 1.3862944\n",
      "8596    8595     2 1.0986123\n",
      "8597    8596     3 1.3862944\n",
      "8598    8597     6 1.9459101\n",
      "8599    8598    10 2.3978953\n",
      "8600    8599     9 2.3025851\n",
      "8601    8600     4 1.6094379\n",
      "8602    8601     9 2.3025851\n",
      "8603    8602    20 3.0445224\n",
      "8604    8603    21 3.0910425\n",
      "8605    8604    17 2.8903718\n",
      "8606    8605    31 3.4657359\n",
      "8607    8606    35 3.5835189\n",
      "8608    8607    37 3.6375862\n",
      "8609    8608    59 4.0943446\n",
      "8610    8609    56 4.0430513\n",
      "8611    8610    74 4.3174881\n",
      "8612    8611    78 4.3694479\n",
      "8613    8612    99 4.6051702\n",
      "8614    8613   105 4.6634391\n",
      "8615    8614   106 4.6728288\n",
      "8616    8615   135 4.9126549\n",
      "8617    8616   152 5.0304379\n",
      "8618    8617   143 4.9698133\n",
      "8619    8618   162 5.0937502\n",
      "8620    8619   169 5.1357984\n",
      "8621    8620   187 5.2364420\n",
      "8622    8621   171 5.1474945\n",
      "8623    8622   194 5.2729996\n",
      "8624    8623   189 5.2470241\n",
      "8625    8624   183 5.2149358\n",
      "8626    8625   170 5.1416636\n",
      "8627    8626   133 4.8978398\n",
      "8628    8627   105 4.6634391\n",
      "8629    8628    69 4.2484952\n",
      "8630    8629    56 4.0430513\n",
      "8631    8630    40 3.7135721\n",
      "8632    8631    26 3.2958369\n",
      "8633    8632    19 2.9957323\n",
      "8634    8633     9 2.3025851\n",
      "8635    8634     0 0.0000000\n",
      "8636    8635     1 0.6931472\n",
      "8637    8636     1 0.6931472\n",
      "8638    8637     0 0.0000000\n",
      "8639    8638     0 0.0000000\n",
      "8640    8639     0 0.0000000\n",
      "8641    8640     1 0.6931472\n",
      "8642    8641     0 0.0000000\n",
      "8643    8642     0 0.0000000\n",
      "8644    8643     0 0.0000000\n",
      "8645    8644     0 0.0000000\n",
      "8646    8645     0 0.0000000\n",
      "8647    8646     0 0.0000000\n",
      "8648    8647     0 0.0000000\n",
      "8649    8648     0 0.0000000\n",
      "8650    8649     0 0.0000000\n",
      "8651    8650     0 0.0000000\n",
      "8652    8651     0 0.0000000\n",
      "8653    8652     0 0.0000000\n",
      "8654    8653     0 0.0000000\n",
      "8655    8654     0 0.0000000\n",
      "8656    8655     0 0.0000000\n",
      "8657    8656     0 0.0000000\n",
      "8658    8657     0 0.0000000\n",
      "8659    8658     1 0.6931472\n",
      "8660    8659     0 0.0000000\n",
      "8661    8660     0 0.0000000\n",
      "8662    8661     0 0.0000000\n",
      "8663    8662     1 0.6931472\n",
      "8664    8663     1 0.6931472\n",
      "8665    8664     0 0.0000000\n",
      "8666    8665     0 0.0000000\n",
      "8667    8666     0 0.0000000\n",
      "8668    8667     0 0.0000000\n",
      "8669    8668     1 0.6931472\n",
      "8670    8669     1 0.6931472\n",
      "8671    8670     0 0.0000000\n",
      "8672    8671     0 0.0000000\n",
      "8673    8672     0 0.0000000\n",
      "\n"
     ]
    }
   ],
   "source": [
    "# Extract data points around each peak\n",
    "extract_peak_data <- function(data, peak_positions, window_size) {\n",
    "  peak_data_list <- list()\n",
    "  for (peak in peak_positions) {\n",
    "    lower_bound <- max(1, peak - window_size)\n",
    "    upper_bound <- min(nrow(data), peak + window_size)\n",
    "    peak_data <- data[lower_bound:upper_bound, ]\n",
    "    peak_data_list[[as.character(peak)]] <- peak_data\n",
    "  }\n",
    "  return(peak_data_list)\n",
    "}\n",
    "\n",
    "peak_data_list_AmCsCo <- extract_peak_data(IC48A_AmCsCo, peaks_AmCsCo, window_size = 50)\n",
    "peak_data_list_Th <- extract_peak_data(IC48A_Th, peaks_Th, window_size = 50)\n",
    "print(peak_data_list_AmCsCo)\n"
   ]
  },
  {
   "cell_type": "markdown",
   "metadata": {},
   "source": [
    "### e. Fit Gaussian and Calculate FWHM - - -   DA SISTEMARE ! - -  -\n",
    "Vedere se trova le FWHM per tutti i picchi ( non so se vada fatto)- non mi sembra che fitti benissimo su tutti"
   ]
  },
  {
   "cell_type": "markdown",
   "metadata": {},
   "source": [
    "Calcolo FWHM con metodo Gaussiano"
   ]
  },
  {
   "cell_type": "code",
   "execution_count": 6,
   "metadata": {
    "vscode": {
     "languageId": "r"
    }
   },
   "outputs": [],
   "source": [
    "# Function to fit Gaussian model using nls\n",
    "fit_gaussian_nls <- function(peak_data) {\n",
    "  # Initial guesses for the parameters\n",
    "  mu_init <- peak_data$Channel[which.max(peak_data$log_Count)]\n",
    "  sigma_init <- diff(range(peak_data$Channel)) / 4  # Quarter of the range\n",
    "  A_init <- max(peak_data$log_Count)\n",
    "  \n",
    "  # Define the Gaussian function\n",
    "  gaussian <- function(x, mu, sigma, A) {\n",
    "    A * exp(-0.5 * ((x - mu) / sigma)^2)\n",
    "  }\n",
    "  \n",
    "  # Fit the model using nls\n",
    "  fit <- nls(log_Count ~ gaussian(Channel, mu, sigma, A), data = peak_data,\n",
    "             start = list(mu = mu_init, sigma = sigma_init, A = A_init),\n",
    "             control = nls.control(maxiter = 100))\n",
    "  return(fit)\n",
    "}\n",
    "\n",
    "\n",
    "# Fit the model for each peak\n",
    "fits_AmCsCo <- lapply(peak_data_list_AmCsCo, fit_gaussian_nls)\n",
    "fits_Th <- lapply(peak_data_list_Th, fit_gaussian_nls)\n"
   ]
  },
  {
   "cell_type": "code",
   "execution_count": 7,
   "metadata": {
    "vscode": {
     "languageId": "r"
    }
   },
   "outputs": [
    {
     "name": "stdout",
     "output_type": "stream",
     "text": [
      "2280.sigma 4041.sigma 4589.sigma 8623.sigma \n",
      " 113.60375   98.59698   70.72224   30.82972 \n",
      "  485.sigma  1504.sigma  1890.sigma  3218.sigma  3674.sigma  4581.sigma \n",
      "  243.93417   132.03734   217.54721   121.84996   100.36421   104.35655 \n",
      " 4948.sigma  5420.sigma  6793.sigma  9525.sigma 10025.sigma 10202.sigma \n",
      "  130.33953    96.80037   138.30798   153.03026   128.99338   118.26166 \n",
      "13240.sigma 16452.sigma 20099.sigma \n",
      "  121.83213    80.02592    62.33207 \n"
     ]
    }
   ],
   "source": [
    "# Function to calculate FWHM from fitted Gaussian parameters\n",
    "calculate_fwhm <- function(fit) {\n",
    "  coef_fit <- coef(fit)\n",
    "  sigma <- coef_fit[\"sigma\"]\n",
    "  FWHM <- 2 * sqrt(2 * log(2)) * sigma\n",
    "  return(FWHM)\n",
    "}\n",
    "\n",
    "# Calculate FWHM for each peak\n",
    "fwhm_values_AmCsCo <- sapply(fits_AmCsCo, calculate_fwhm)\n",
    "fwhm_values_Th <- sapply(fits_Th, calculate_fwhm)\n",
    "print(fwhm_values_AmCsCo)\n",
    "print(fwhm_values_Th)\n"
   ]
  },
  {
   "cell_type": "code",
   "execution_count": 8,
   "metadata": {
    "vscode": {
     "languageId": "r"
    }
   },
   "outputs": [
    {
     "data": {
      "image/png": "[encoded data removed]",
      "text/plain": [
       "Plot with title \"Peak Position vs FWHM\""
      ]
     },
     "metadata": {
      "image/png": {
       "height": 360,
       "width": 720
      }
     },
     "output_type": "display_data"
    }
   ],
   "source": [
    "# Example data (assuming these are your peak positions and corresponding FWHM values)\n",
    "peak_positions <- c(2280, 4041, 4589, 8623)\n",
    "fwhm_values <- c(113.60375, 98.59698, 70.72224, 30.82972)\n",
    "\n",
    "# Plotting peak positions against FWHM values\n",
    "plot(peak_positions, fwhm_values, \n",
    "     xlab = \"Peak Position\",\n",
    "     ylab = \"FWHM (sigma)\",\n",
    "     main = \"Peak Position vs FWHM\")\n",
    "\n",
    "# Adding a linear regression line\n",
    "abline(lm(fwhm_values ~ peak_positions), col = \"red\")\n"
   ]
  },
  {
   "cell_type": "markdown",
   "metadata": {},
   "source": [
    "## Step 2: Calibration of Detector\n",
    "To perform a calibration of the detector, we need to establish a relationship between the channel number (position of the peak) and the known energies of the gamma peaks. Assuming a linear response, this relationship can be expressed as:\n",
    "$$ E=a⋅x+b $$\n",
    "\n",
    "where:\n",
    "* E is the energy in keV,\n",
    "* x is the channel number,\n",
    "* a and b are the calibration constants.\n",
    "We can perform this calibration using a set of known gamma energies corresponding to the detected peaks.\n",
    "\n",
    "##### Steps to Perform Calibration\n",
    "Identify Known Gamma Energies: We need to have the nominal gamma peak energies for the isotopes in the data.  \n",
    "Fit the Line: Use the identified peak positions (centroids) and their corresponding gamma energies to fit a linear model.  \n",
    "Apply Calibration: Use the linear model to convert channel numbers to energies.  "
   ]
  },
  {
   "cell_type": "code",
   "execution_count": 9,
   "metadata": {
    "vscode": {
     "languageId": "r"
    }
   },
   "outputs": [
    {
     "data": {
      "text/plain": [
       "\n",
       "Call:\n",
       "lm(formula = Energy_AmCsCo ~ Channel_AmCsCo, data = calibration_data_AmCsCo)\n",
       "\n",
       "Residuals:\n",
       "     1      2      3      4 \n",
       " 421.4 -301.3 -320.3  200.2 \n",
       "\n",
       "Coefficients:\n",
       "                 Estimate Std. Error t value Pr(>|t|)  \n",
       "(Intercept)    2667.70276  527.90893   5.053    0.037 *\n",
       "Channel_AmCsCo   -0.25586    0.09763  -2.621    0.120  \n",
       "---\n",
       "Signif. codes:  0 '***' 0.001 '**' 0.01 '*' 0.05 '.' 0.1 ' ' 1\n",
       "\n",
       "Residual standard error: 453.3 on 2 degrees of freedom\n",
       "Multiple R-squared:  0.7745,\tAdjusted R-squared:  0.6617 \n",
       "F-statistic: 6.868 on 1 and 2 DF,  p-value: 0.12\n"
      ]
     },
     "metadata": {},
     "output_type": "display_data"
    },
    {
     "data": {
      "text/plain": [
       "\n",
       "Call:\n",
       "lm(formula = Energy_Th ~ Channel_Th, data = calibration_data_Th)\n",
       "\n",
       "Residuals:\n",
       "     Min       1Q   Median       3Q      Max \n",
       "-240.233  -53.706    0.797   72.222  194.619 \n",
       "\n",
       "Coefficients:\n",
       "             Estimate Std. Error t value Pr(>|t|)    \n",
       "(Intercept) 2.070e+02  4.970e+01   4.164  0.00111 ** \n",
       "Channel_Th  1.167e-01  5.347e-03  21.833 1.25e-11 ***\n",
       "---\n",
       "Signif. codes:  0 '***' 0.001 '**' 0.01 '*' 0.05 '.' 0.1 ' ' 1\n",
       "\n",
       "Residual standard error: 114.6 on 13 degrees of freedom\n",
       "Multiple R-squared:  0.9735,\tAdjusted R-squared:  0.9714 \n",
       "F-statistic: 476.7 on 1 and 13 DF,  p-value: 1.253e-11\n"
      ]
     },
     "metadata": {},
     "output_type": "display_data"
    },
    {
     "name": "stderr",
     "output_type": "stream",
     "text": [
      "\u001b[1m\u001b[22m`geom_smooth()` using formula = 'y ~ x'\n",
      "\u001b[1m\u001b[22m`geom_smooth()` using formula = 'y ~ x'\n"
     ]
    },
    {
     "data": {
      "image/png": "[encoded data removed]",
      "text/plain": [
       "plot without title"
      ]
     },
     "metadata": {
      "image/png": {
       "height": 360,
       "width": 720
      }
     },
     "output_type": "display_data"
    },
    {
     "data": {
      "image/png": "[encoded data removed]",
      "text/plain": [
       "plot without title"
      ]
     },
     "metadata": {
      "image/png": {
       "height": 360,
       "width": 720
      }
     },
     "output_type": "display_data"
    }
   ],
   "source": [
    "# Given gamma energies (in keV) corresponding to the detected peaks\n",
    "AmCsCo_energies <- c(2505.69, 1332.492, 1173.228, 661.657)\n",
    "Th_energies <- c(238.632, 300.089, 510.74, 583.187, 727.330, 763.45 , 785.37, 860.53, 893.408, 1078.63, 1512.70, 1592.511, 1620.738, 2103.511, 2614.511)\n",
    "\n",
    "# Create a data frame with the positions and corresponding energies\n",
    "calibration_data_AmCsCo <- data.frame(\n",
    "  Channel_AmCsCo = peaks_AmCsCo,\n",
    "  Energy_AmCsCo = AmCsCo_energies\n",
    ")\n",
    "calibration_data_Th <- data.frame(\n",
    "  Channel_Th = peaks_Th,\n",
    "  Energy_Th = Th_energies\n",
    ")\n",
    "\n",
    "# Fit the linear model\n",
    "calibration_model_AmCsCo <- lm(Energy_AmCsCo ~ Channel_AmCsCo, data = calibration_data_AmCsCo)\n",
    "calibration_model_Th <- lm(Energy_Th ~ Channel_Th, data = calibration_data_Th)\n",
    "summary(calibration_model_AmCsCo)\n",
    "summary(calibration_model_Th)\n",
    "\n",
    "# Plot the calibration data and the fitted model\n",
    "ggplot(calibration_data_AmCsCo, aes(x = Channel_AmCsCo, y = Energy_AmCsCo)) +\n",
    "  geom_point() +\n",
    "  geom_smooth(method = \"lm\", col = \"red\") +\n",
    "  ggtitle(\"Calibration Curve AmCsCo\") +\n",
    "  xlab(\"Channel Number\") +\n",
    "  ylab(\"Energy (keV)\")\n",
    "\n",
    "ggplot(calibration_data_Th, aes(x = Channel_Th, y = Energy_Th)) +\n",
    "  geom_point() +\n",
    "  geom_smooth(method = \"lm\", col = \"red\") +\n",
    "  ggtitle(\"Calibration Curve Th\") +\n",
    "  xlab(\"Channel Number\") +\n",
    "  ylab(\"Energy (keV)\")\n"
   ]
  },
  {
   "cell_type": "code",
   "execution_count": 10,
   "metadata": {
    "vscode": {
     "languageId": "r"
    }
   },
   "outputs": [
    {
     "data": {
      "image/png": "[encoded data removed]",
      "text/plain": [
       "plot without title"
      ]
     },
     "metadata": {
      "image/png": {
       "height": 360,
       "width": 720
      }
     },
     "output_type": "display_data"
    },
    {
     "name": "stdout",
     "output_type": "stream",
     "text": [
      "        1         2         3         4 \n",
      "2084.3384 1633.7662 1493.5540  461.4084 \n"
     ]
    },
    {
     "data": {
      "image/png": "[encoded data removed]",
      "text/plain": [
       "plot without title"
      ]
     },
     "metadata": {
      "image/png": {
       "height": 360,
       "width": 720
      }
     },
     "output_type": "display_data"
    }
   ],
   "source": [
    "# Define the function to convert channel to energy\n",
    "channel_to_energy <- function(channel, model, predictor) {\n",
    "  predict(model, newdata = setNames(data.frame(channel), predictor))\n",
    "}\n",
    "\n",
    "# Apply calibration to the channels\n",
    "energies_AmCsCo <- channel_to_energy(calibration_data_AmCsCo$Channel_AmCsCo, calibration_model_AmCsCo, \"Channel_AmCsCo\")\n",
    "energies_Th <- channel_to_energy(calibration_data_Th$Channel_Th, calibration_model_Th, \"Channel_Th\")\n",
    "\n",
    "# Create a data frame with channels and corresponding energies\n",
    "calibrated_data_AmCsCo <- data.frame(Channel_AmCsCo = calibration_data_AmCsCo$Channel_AmCsCo,\n",
    "                              Energy_AmCsCo = energies_AmCsCo)\n",
    "calibrated_data_Th <- data.frame(Channel_Th = calibration_data_Th$Channel_Th,\n",
    "                              Energy_Th = energies_Th)\n",
    "\n",
    "\n",
    "# Load ggplot2 library for plotting\n",
    "library(ggplot2)\n",
    "\n",
    "# Plot the calibration results for AmCsCo\n",
    "ggplot(calibrated_data_AmCsCo, aes(x = Channel_AmCsCo, y = Energy_AmCsCo)) +\n",
    "  geom_line() +\n",
    "  ggtitle(\"Channel to Energy Conversion AmCsCo\") +\n",
    "  xlab(\"Channel Number\") +\n",
    "  ylab(\"Energy (keV)\")\n",
    "\n",
    "# Plot the calibration results for Th\n",
    "ggplot(calibrated_data_Th, aes(x = Channel_Th, y = Energy_Th)) +\n",
    "  geom_line() +\n",
    "  ggtitle(\"Channel to Energy Conversion Th\") +\n",
    "  xlab(\"Channel Number\") +\n",
    "  ylab(\"Energy (keV)\")\n",
    "print(energies_AmCsCo)\n"
   ]
  },
  {
   "cell_type": "markdown",
   "metadata": {},
   "source": [
    "### Step 3: Study Energy Resolution Using MCMC:\n",
    "Using MCMC methods (with either JAGS or Stan), study the behavior of energy resolution as a function of photon energy.\n",
    "Infer the parameters of the equations for FWHM and its components."
   ]
  },
  {
   "cell_type": "markdown",
   "metadata": {
    "vscode": {
     "languageId": "r"
    }
   },
   "source": [
    "To study the behavior of the energy resolution as a function of the photon energy and infer the parameters using a Bayesian approach (with either JAGS or Stan), we need to model the Full Width at Half Maximum (FWHM) in terms of the provided equations.\n",
    "\n",
    "##### Equations\n",
    "$$ FWHM= \\sqrt{(w_d^2+w_e^2)} $$\n",
    "$$ w_d = 2  \\sqrt{(2 \\cdot \\log(2)) \\cdot F \\cdot E_{\\gamma} \\cdot w}​ $$\n",
    " \n",
    "Here, $E_\\gamma$ is the photon energy, F is a parameter, and w is a parameter related to the detector.\n",
    "\n",
    "##### Steps\n",
    "* Model Definition: Define the Bayesian model using the equations.\n",
    "* Data Preparation: Prepare the data for MCMC analysis.\n",
    "* MCMC Simulation: Use Stan to run the MCMC simulation and infer the parameters.\n",
    "* Result Analysis: Analyze the results to understand the behavior of energy resolution.\n",
    "1. Model Definition\n",
    "We need to translate the given equations into a form that can be used with MCMC methods. The parameters to be inferred are $w_e$,F, and w.  \n",
    "\n",
    "We'll start by rearranging the equations:\n",
    "\n",
    "* Substitute $w_d$ into the first equation.\n",
    "##### Stan Model\n",
    "Let's define a Stan model for the FWHM as a function of photon energy."
   ]
  },
  {
   "cell_type": "code",
   "execution_count": 11,
   "metadata": {
    "vscode": {
     "languageId": "r"
    }
   },
   "outputs": [],
   "source": [
    "# Define the Stan model\n",
    "stan_model_code <- \"\n",
    "data {\n",
    "  int<lower=0> N; // number of observations\n",
    "  vector[N] E_gamma; // photon energy values\n",
    "  vector[N] FWHM; // FWHM values\n",
    "}\n",
    "parameters {\n",
    "  real<lower=0> F;\n",
    "  real<lower=0> w;\n",
    "  real<lower=0> w_e;\n",
    "}\n",
    "model {\n",
    "  vector[N] w_d;\n",
    "  for (i in 1:N) {\n",
    "    w_d[i] = 2 * sqrt(2 * log(2) * F * E_gamma[i] * w);\n",
    "  }\n",
    "  FWHM ~ normal(sqrt(w_d .* w_d + w_e * w_e), 0.1);\n",
    "}\n",
    "\"\n"
   ]
  },
  {
   "cell_type": "markdown",
   "metadata": {},
   "source": [
    "2. Data Preparation  \n",
    "We will use the energies and FWHM values from your data. Here are the values you provided earlier:"
   ]
  },
  {
   "cell_type": "code",
   "execution_count": 12,
   "metadata": {
    "vscode": {
     "languageId": "r"
    }
   },
   "outputs": [],
   "source": [
    "# Prepare data for Stan\n",
    "stan_data_AmCsCo <- list(\n",
    "  N = length(energies_AmCsCo),\n",
    "  E_gamma = energies_AmCsCo,\n",
    "  FWHM = fwhm_values_AmCsCo\n",
    ")\n",
    "stan_data_Th <- list(\n",
    "  N = length(energies_Th),\n",
    "  E_gamma = energies_Th,\n",
    "  FWHM = fwhm_values_Th\n",
    ")"
   ]
  },
  {
   "cell_type": "markdown",
   "metadata": {},
   "source": [
    "3. MCMC Simulation  \n",
    "Compile the Stan model and run the MCMC simulation:"
   ]
  },
  {
   "cell_type": "markdown",
   "metadata": {},
   "source": [
    "4. Result Analysis  \n",
    "Extract the results and analyze the parameters:"
   ]
  },
  {
   "cell_type": "code",
   "execution_count": 17,
   "metadata": {
    "vscode": {
     "languageId": "r"
    }
   },
   "outputs": [
    {
     "name": "stdout",
     "output_type": "stream",
     "text": [
      "Compiling model graph\n",
      "   Resolving undeclared variables\n",
      "   Allocating nodes\n",
      "Graph information:\n",
      "   Observed stochastic nodes: 4\n",
      "   Unobserved stochastic nodes: 3\n",
      "   Total graph size: 44\n",
      "\n",
      "Initializing model\n",
      "\n",
      "\n",
      "Iterations = 2001:4000\n",
      "Thinning interval = 1 \n",
      "Number of chains = 4 \n",
      "Sample size per chain = 2000 \n",
      "\n",
      "1. Empirical mean and standard deviation for each variable,\n",
      "   plus standard error of the mean:\n",
      "\n",
      "      Mean      SD  Naive SE Time-series SE\n",
      "F   0.3167 0.06572 0.0007348        0.00771\n",
      "w   2.9075 0.58793 0.0065732        0.07110\n",
      "w_e 3.9161 2.58878 0.0289434        0.04164\n",
      "\n",
      "2. Quantiles for each variable:\n",
      "\n",
      "      2.5%   25%    50%    75%  97.5%\n",
      "F   0.2209 0.258 0.3109 0.3701 0.4395\n",
      "w   2.0355 2.386 2.8389 3.4156 3.9363\n",
      "w_e 0.1802 1.726 3.5963 5.8275 9.2768\n",
      "\n"
     ]
    }
   ],
   "source": [
    "library(rjags)\n",
    "\n",
    "# Define JAGS model code\n",
    "jags_model_code <- \"\n",
    "model {\n",
    "  for (i in 1:N) {\n",
    "    w_d[i] <- 2 * sqrt(2 * log(2) * F * E_gamma[i] * w)\n",
    "    FWHM[i] ~ dnorm(sqrt(w_d[i]^2 + w_e^2), prec)\n",
    "  }\n",
    "  \n",
    "  F ~ dunif(0, 1)   # Prior uniforme per F\n",
    "  w ~ dunif(2, 4)  # Prior uniforme per w\n",
    "  w_e ~ dunif(0, 10)  # Prior uniforme per w_e\n",
    "}\n",
    "\"\n",
    "\n",
    "# Prepare data for JAGS\n",
    "jags_data_AmCsCo <- list(\n",
    "  N = length(energies_AmCsCo),\n",
    "  E_gamma = energies_AmCsCo,\n",
    "  FWHM = fwhm_values_AmCsCo,\n",
    "  prec = 0.1  # Precisione per la distribuzione normale\n",
    ")\n",
    "\n",
    "# Compile and run the JAGS model\n",
    "jags_model_AmCsCo <- jags.model(textConnection(jags_model_code), data = jags_data_AmCsCo, n.chains = 4)\n",
    "update(jags_model_AmCsCo, 1000)  # Burn-in di 1000 iterazioni\n",
    "jags_samples_AmCsCo <- coda.samples(jags_model_AmCsCo, variable.names = c(\"F\", \"w\", \"w_e\"), n.iter = 2000)\n",
    "\n",
    "# Print summary of JAGS model\n",
    "print(summary(jags_samples_AmCsCo))\n"
   ]
  },
  {
   "cell_type": "code",
   "execution_count": 18,
   "metadata": {
    "vscode": {
     "languageId": "r"
    }
   },
   "outputs": [
    {
     "name": "stdout",
     "output_type": "stream",
     "text": [
      "Estimated parameters (JAGS):\n",
      "F: 0.3167082 \n",
      "w: 2.907473 \n",
      "w_e: 3.916131 \n"
     ]
    },
    {
     "data": {
      "image/png": "[encoded data removed]",
      "text/plain": [
       "Plot with title \"Energy Resolution (JAGS)\""
      ]
     },
     "metadata": {
      "image/png": {
       "height": 360,
       "width": 720
      }
     },
     "output_type": "display_data"
    }
   ],
   "source": [
    "# Extract results from JAGS\n",
    "results_jags <- as.matrix(jags_samples_AmCsCo)\n",
    "fwhm_AmCsCo <- c(113.60375, 98.59698, 70.72224, 30.82972)\n",
    "# Get posterior estimates for parameters\n",
    "F_est_jags <- mean(results_jags[, \"F\"])\n",
    "w_est_jags <- mean(results_jags[, \"w\"])\n",
    "w_e_est_jags <- mean(results_jags[, \"w_e\"])\n",
    "\n",
    "# Print estimated parameters\n",
    "cat(\"Estimated parameters (JAGS):\\n\")\n",
    "cat(\"F:\", F_est_jags, \"\\n\")\n",
    "cat(\"w:\", w_est_jags, \"\\n\")\n",
    "cat(\"w_e:\", w_e_est_jags, \"\\n\")\n",
    "\n",
    "# Plot the energy resolution function\n",
    "energy_range_jags <- seq(min(energies_AmCsCo), max(energies_AmCsCo), length.out = 100)\n",
    "w_d_jags <- 2 * sqrt(2 * log(2) * F_est_jags * energy_range_jags * w_est_jags)\n",
    "predicted_fwhm_jags <- sqrt(w_d_jags^2 + w_e_est_jags^2)\n",
    "plot(energies_AmCsCo, fwhm_AmCsCo, pch = 19, col = \"blue\", xlab = \"Energy (keV)\", ylab = \"FWHM\", main = \"Energy Resolution (JAGS)\")\n",
    "lines(energy_range_jags, predicted_fwhm_jags, col = \"red\", lwd = 2)"
   ]
  },
  {
   "cell_type": "code",
   "execution_count": 19,
   "metadata": {
    "vscode": {
     "languageId": "r"
    }
   },
   "outputs": [
    {
     "name": "stdout",
     "output_type": "stream",
     "text": [
      "Compiling model graph\n",
      "   Resolving undeclared variables\n",
      "   Allocating nodes\n",
      "Graph information:\n",
      "   Observed stochastic nodes: 15\n",
      "   Unobserved stochastic nodes: 3\n",
      "   Total graph size: 132\n",
      "\n",
      "Initializing model\n",
      "\n",
      "\n",
      "Iterations = 2001:4000\n",
      "Thinning interval = 1 \n",
      "Number of chains = 4 \n",
      "Sample size per chain = 2000 \n",
      "\n",
      "1. Empirical mean and standard deviation for each variable,\n",
      "   plus standard error of the mean:\n",
      "\n",
      "      Mean     SD Naive SE Time-series SE\n",
      "F   0.7503 0.1297 0.001450       0.034084\n",
      "w   3.0297 0.5337 0.005967       0.129714\n",
      "w_e 9.8308 0.1693 0.001893       0.004237\n",
      "\n",
      "2. Quantiles for each variable:\n",
      "\n",
      "      2.5%    25%    50%    75%  97.5%\n",
      "F   0.5533 0.6331 0.7561 0.8514 0.9829\n",
      "w   2.2454 2.5929 2.9160 3.4846 3.9701\n",
      "w_e 9.3915 9.7667 9.8818 9.9526 9.9962\n",
      "\n"
     ]
    }
   ],
   "source": [
    "# Prepare data for JAGS\n",
    "jags_data_Th <- list(\n",
    "  N = length(energies_Th),\n",
    "  E_gamma = energies_Th,\n",
    "  FWHM = fwhm_values_Th,\n",
    "  prec = 0.1  # Precisione per la distribuzione normale\n",
    ")\n",
    "\n",
    "# Compile and run the JAGS model\n",
    "jags_model_Th <- jags.model(textConnection(jags_model_code), data = jags_data_Th, n.chains = 4)\n",
    "update(jags_model_Th, 1000)  # Burn-in di 1000 iterazioni\n",
    "jags_samples_Th <- coda.samples(jags_model_Th, variable.names = c(\"F\", \"w\", \"w_e\"), n.iter = 2000)\n",
    "\n",
    "# Print summary of JAGS model\n",
    "print(summary(jags_samples_Th))"
   ]
  },
  {
   "cell_type": "code",
   "execution_count": 20,
   "metadata": {
    "vscode": {
     "languageId": "r"
    }
   },
   "outputs": [
    {
     "name": "stdout",
     "output_type": "stream",
     "text": [
      "Estimated parameters (JAGS):\n",
      "F: 0.7503484 \n",
      "w: 3.029663 \n",
      "w_e: 9.830768 \n"
     ]
    },
    {
     "data": {
      "image/png": "[encoded data removed]",
      "text/plain": [
       "Plot with title \"Energy Resolution (JAGS)\""
      ]
     },
     "metadata": {
      "image/png": {
       "height": 360,
       "width": 720
      }
     },
     "output_type": "display_data"
    }
   ],
   "source": [
    "# Extract results from JAGS\n",
    "results_jags <- as.matrix(jags_samples_Th)\n",
    "\n",
    "# Get posterior estimates for parameters\n",
    "F_est_jags <- mean(results_jags[, \"F\"])\n",
    "w_est_jags <- mean(results_jags[, \"w\"])\n",
    "w_e_est_jags <- mean(results_jags[, \"w_e\"])\n",
    "\n",
    "# Print estimated parameters\n",
    "cat(\"Estimated parameters (JAGS):\\n\")\n",
    "cat(\"F:\", F_est_jags, \"\\n\")\n",
    "cat(\"w:\", w_est_jags, \"\\n\")\n",
    "cat(\"w_e:\", w_e_est_jags, \"\\n\")\n",
    "\n",
    "# Plot the energy resolution function\n",
    "energy_range_jags <- seq(min(energies_Th), max(energies_Th), length.out = 100)\n",
    "w_d_jags <- 2 * sqrt(2 * log(2) * F_est_jags * energy_range_jags * w_est_jags)\n",
    "predicted_fwhm_jags <- sqrt(w_d_jags^2 + w_e_est_jags^2)\n",
    "plot(energies_Th, fwhm_values_Th, pch = 19, col = \"blue\", xlab = \"Energy (keV)\", ylab = \"FWHM\", main = \"Energy Resolution (JAGS)\")\n",
    "lines(energy_range_jags, predicted_fwhm_jags, col = \"red\", lwd = 2)"
   ]
  }
 ],
 "metadata": {
  "kernelspec": {
   "display_name": "R",
   "language": "R",
   "name": "ir"
  },
  "language_info": {
   "codemirror_mode": "r",
   "file_extension": ".r",
   "mimetype": "text/x-r-source",
   "name": "R",
   "pygments_lexer": "r",
   "version": "4.3.3"
  }
 },
 "nbformat": 4,
 "nbformat_minor": 2
}
